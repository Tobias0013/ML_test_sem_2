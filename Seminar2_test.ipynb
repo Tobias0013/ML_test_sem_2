{
  "nbformat": 4,
  "nbformat_minor": 0,
  "metadata": {
    "colab": {
      "provenance": [],
      "collapsed_sections": [
        "7N8Er-Z3qNP8",
        "8uZ0PjsezELf",
        "dBbKPRCo6EaV",
        "ugduek_P6Ty3",
        "FAABjbR86gCA",
        "l8tcc9B48r7n",
        "NmhV2Rzo-E2J",
        "Zyq4Dn_HAZPk"
      ],
      "authorship_tag": "ABX9TyOiAl+WHW4yNqvusGG6Z0xx",
      "include_colab_link": true
    },
    "kernelspec": {
      "name": "python3",
      "display_name": "Python 3"
    },
    "language_info": {
      "name": "python"
    }
  },
  "cells": [
    {
      "cell_type": "markdown",
      "metadata": {
        "id": "view-in-github",
        "colab_type": "text"
      },
      "source": [
        "<a href=\"https://colab.research.google.com/github/Tobias0013/ML_test_sem_2/blob/main/Seminar2_test.ipynb\" target=\"_parent\"><img src=\"https://colab.research.google.com/assets/colab-badge.svg\" alt=\"Open In Colab\"/></a>"
      ]
    },
    {
      "cell_type": "code",
      "source": [
        "# Test for github"
      ],
      "metadata": {
        "id": "uxJR_xQbJ_p3"
      },
      "execution_count": null,
      "outputs": []
    },
    {
      "cell_type": "markdown",
      "source": [
        "## 0. Imports / load data"
      ],
      "metadata": {
        "id": "icT-IvPsUT2l"
      }
    },
    {
      "cell_type": "code",
      "source": [
        "import pandas as pd\n",
        "from sklearn.preprocessing import LabelEncoder\n",
        "from sklearn.preprocessing import OneHotEncoder\n",
        "from sklearn.compose import ColumnTransformer\n",
        "\n",
        "import numpy as np\n",
        "\n",
        "from sklearn.model_selection import train_test_split\n",
        "from sklearn.tree import DecisionTreeClassifier\n",
        "from sklearn.ensemble import RandomForestClassifier\n",
        "from sklearn.naive_bayes import GaussianNB\n",
        "from sklearn.metrics import accuracy_score\n",
        "\n",
        "from sklearn.metrics import confusion_matrix, classification_report\n",
        "import matplotlib.pyplot as plt\n",
        "import seaborn as sns"
      ],
      "metadata": {
        "id": "7wTLnN1ik3PX"
      },
      "execution_count": null,
      "outputs": []
    },
    {
      "cell_type": "code",
      "source": [
        "cars_data = pd.read_csv('ALL_CARS_DATA.csv')"
      ],
      "metadata": {
        "id": "BenwuuS1k6Zq"
      },
      "execution_count": null,
      "outputs": []
    },
    {
      "cell_type": "markdown",
      "source": [
        "## 1. Explore rows with missing data"
      ],
      "metadata": {
        "id": "7N8Er-Z3qNP8"
      }
    },
    {
      "cell_type": "markdown",
      "source": [
        "create dataframe with rows of missing data"
      ],
      "metadata": {
        "id": "LN-a5IpLvYzX"
      }
    },
    {
      "cell_type": "code",
      "source": [
        "missing_data = cars_data[cars_data.isna().any(axis=1)]\n",
        "len(missing_data)"
      ],
      "metadata": {
        "id": "0RV8AratsvKr",
        "colab": {
          "base_uri": "https://localhost:8080/"
        },
        "outputId": "f291748f-a572-40b1-f3b2-3d2cd66a1ff9"
      },
      "execution_count": null,
      "outputs": [
        {
          "output_type": "execute_result",
          "data": {
            "text/plain": [
              "590"
            ]
          },
          "metadata": {},
          "execution_count": 3
        }
      ]
    },
    {
      "cell_type": "markdown",
      "source": [
        "displays rows with missing data"
      ],
      "metadata": {
        "id": "b_XHYYyevhqk"
      }
    },
    {
      "cell_type": "code",
      "source": [
        "missing_data.head(10)"
      ],
      "metadata": {
        "colab": {
          "base_uri": "https://localhost:8080/"
        },
        "collapsed": true,
        "id": "7uyD2N_ovedr",
        "outputId": "5e69efba-573b-4311-9702-9e4b184a1570"
      },
      "execution_count": null,
      "outputs": [
        {
          "output_type": "execute_result",
          "data": {
            "text/plain": [
              "               CAR ID            PARENT COMPANY MAKE ORIGIN      BRAND  \\\n",
              "5108    crossover5109            General Motors         USA  Chevrolet   \n",
              "5169    crossover5170            General Motors         USA  Chevrolet   \n",
              "5608    crossover5609            General Motors         USA  Chevrolet   \n",
              "7712    crossover7713            General Motors         USA  Chevrolet   \n",
              "7776    crossover7777            General Motors         USA  Chevrolet   \n",
              "9012    crossover9013            General Motors         USA  Chevrolet   \n",
              "18161  crossover18162  Toyota Motor Corporation       Japan     Toyota   \n",
              "18188  crossover18189  Toyota Motor Corporation       Japan     Toyota   \n",
              "19733  crossover19734  Toyota Motor Corporation       Japan     Toyota   \n",
              "23528  crossover23529  Toyota Motor Corporation       Japan     Toyota   \n",
              "\n",
              "               MODEL/CLASS                            CAR NAME  MODEL  \\\n",
              "5108          Traverse LTZ              Chevrolet Traverse LTZ   2014   \n",
              "5169          Traverse LTZ              Chevrolet Traverse LTZ   2015   \n",
              "5608     Traverse LT Cloth         Chevrolet Traverse LT Cloth   2023   \n",
              "7712   Traverse LT Leather       Chevrolet Traverse LT Leather   2023   \n",
              "7776          Traverse 1LT              Chevrolet Traverse 1LT   2017   \n",
              "9012      Traverse Premier          Chevrolet Traverse Premier   2021   \n",
              "18161                 RAV4                      Toyota RAV4 LE   2021   \n",
              "18188                 RAV4                     Toyota RAV4 XLE   2021   \n",
              "19733                 RAV4                     Toyota RAV4 XLE   2017   \n",
              "23528           Highlander  Toyota Highlander Limited Platinum   2018   \n",
              "\n",
              "        CAR TYPE                                              IMAGE  \\\n",
              "5108   crossover  https://www.cars.com/i/large/in/v2/78428447-bd...   \n",
              "5169   crossover  https://www.cars.com/i/large/in/v2/78428447-bd...   \n",
              "5608   crossover  https://www.cars.com/i/large/in/v2/b085f0f7-c7...   \n",
              "7712   crossover  https://www.cars.com/i/large/in/v2/6683c5c9-c0...   \n",
              "7776   crossover  https://www.cars.com/i/large/in/v2/6683c5c9-c0...   \n",
              "9012   crossover  https://www.cars.com/i/large/in/v2/0ade4296-69...   \n",
              "18161  crossover  https://www.cars.com/i/large/in/v2/756b920c-19...   \n",
              "18188  crossover  https://www.cars.com/i/large/in/v2/756b920c-19...   \n",
              "19733  crossover  https://www.cars.com/i/large/in/v2/78428447-bd...   \n",
              "23528  crossover  https://www.cars.com/i/large/in/v2/b085f0f7-c7...   \n",
              "\n",
              "      PRICE RANGE  PRICE($)  AGE OF CAR STOCK TYPE   MILEAGE  RATING  \\\n",
              "5108          Low   17090.0          10       Used   59619.0    -1.0   \n",
              "5169          Low   13590.0           9       Used  113415.0    -1.0   \n",
              "5608       Medium   31285.0           1       Used   33171.0    -1.0   \n",
              "7712         High   40590.0           1       Used    4536.0    -1.0   \n",
              "7776          Low   16590.0           7       Used   77764.0    -1.0   \n",
              "9012       Medium   32999.0           3       Used   66265.0    -1.0   \n",
              "18161         Low   20468.0           3       Used  120614.0    -1.0   \n",
              "18188      Medium   24485.0           3       Used  100109.0    -1.0   \n",
              "19733         Low   21590.0           7       Used   51682.0    -1.0   \n",
              "23528      Medium   26937.0           6       Used   92690.0    -1.0   \n",
              "\n",
              "            REVIEW                                        DEALER NAME  \\\n",
              "5108    543.977941  John Elway Chevrolet - Delivery from Denver, C...   \n",
              "5169    543.977941  John Elway Chevrolet - Delivery from Denver, C...   \n",
              "5608    917.451474                                      Woodhouse.com   \n",
              "7712    945.194529  John Elway Chevrolet - Delivery from Denver, C...   \n",
              "7776    522.967532  John Elway Chevrolet - Delivery from Denver, C...   \n",
              "9012    881.882653                                      Woodhouse.com   \n",
              "18161     1.000000                                      Woodhouse.com   \n",
              "18188     1.000000                                      Woodhouse.com   \n",
              "19733  1481.719894  John Elway Chevrolet - Delivery from Denver, C...   \n",
              "23528  1324.918869                                      Woodhouse.com   \n",
              "\n",
              "      DEALER LOCATION (CITY) DEALER LOCATION (STATE)  \n",
              "5108           online-dealer                     NaN  \n",
              "5169           online-dealer                     NaN  \n",
              "5608           online-dealer                     NaN  \n",
              "7712           online-dealer                     NaN  \n",
              "7776           online-dealer                     NaN  \n",
              "9012           online-dealer                     NaN  \n",
              "18161          online-dealer                     NaN  \n",
              "18188          online-dealer                     NaN  \n",
              "19733          online-dealer                     NaN  \n",
              "23528          online-dealer                     NaN  "
            ],
            "text/html": [
              "\n",
              "  <div id=\"df-d8857603-7a07-4bce-97cd-bedd7338bcb9\" class=\"colab-df-container\">\n",
              "    <div>\n",
              "<style scoped>\n",
              "    .dataframe tbody tr th:only-of-type {\n",
              "        vertical-align: middle;\n",
              "    }\n",
              "\n",
              "    .dataframe tbody tr th {\n",
              "        vertical-align: top;\n",
              "    }\n",
              "\n",
              "    .dataframe thead th {\n",
              "        text-align: right;\n",
              "    }\n",
              "</style>\n",
              "<table border=\"1\" class=\"dataframe\">\n",
              "  <thead>\n",
              "    <tr style=\"text-align: right;\">\n",
              "      <th></th>\n",
              "      <th>CAR ID</th>\n",
              "      <th>PARENT COMPANY</th>\n",
              "      <th>MAKE ORIGIN</th>\n",
              "      <th>BRAND</th>\n",
              "      <th>MODEL/CLASS</th>\n",
              "      <th>CAR NAME</th>\n",
              "      <th>MODEL</th>\n",
              "      <th>CAR TYPE</th>\n",
              "      <th>IMAGE</th>\n",
              "      <th>PRICE RANGE</th>\n",
              "      <th>PRICE($)</th>\n",
              "      <th>AGE OF CAR</th>\n",
              "      <th>STOCK TYPE</th>\n",
              "      <th>MILEAGE</th>\n",
              "      <th>RATING</th>\n",
              "      <th>REVIEW</th>\n",
              "      <th>DEALER NAME</th>\n",
              "      <th>DEALER LOCATION (CITY)</th>\n",
              "      <th>DEALER LOCATION (STATE)</th>\n",
              "    </tr>\n",
              "  </thead>\n",
              "  <tbody>\n",
              "    <tr>\n",
              "      <th>5108</th>\n",
              "      <td>crossover5109</td>\n",
              "      <td>General Motors</td>\n",
              "      <td>USA</td>\n",
              "      <td>Chevrolet</td>\n",
              "      <td>Traverse LTZ</td>\n",
              "      <td>Chevrolet Traverse LTZ</td>\n",
              "      <td>2014</td>\n",
              "      <td>crossover</td>\n",
              "      <td>https://www.cars.com/i/large/in/v2/78428447-bd...</td>\n",
              "      <td>Low</td>\n",
              "      <td>17090.0</td>\n",
              "      <td>10</td>\n",
              "      <td>Used</td>\n",
              "      <td>59619.0</td>\n",
              "      <td>-1.0</td>\n",
              "      <td>543.977941</td>\n",
              "      <td>John Elway Chevrolet - Delivery from Denver, C...</td>\n",
              "      <td>online-dealer</td>\n",
              "      <td>NaN</td>\n",
              "    </tr>\n",
              "    <tr>\n",
              "      <th>5169</th>\n",
              "      <td>crossover5170</td>\n",
              "      <td>General Motors</td>\n",
              "      <td>USA</td>\n",
              "      <td>Chevrolet</td>\n",
              "      <td>Traverse LTZ</td>\n",
              "      <td>Chevrolet Traverse LTZ</td>\n",
              "      <td>2015</td>\n",
              "      <td>crossover</td>\n",
              "      <td>https://www.cars.com/i/large/in/v2/78428447-bd...</td>\n",
              "      <td>Low</td>\n",
              "      <td>13590.0</td>\n",
              "      <td>9</td>\n",
              "      <td>Used</td>\n",
              "      <td>113415.0</td>\n",
              "      <td>-1.0</td>\n",
              "      <td>543.977941</td>\n",
              "      <td>John Elway Chevrolet - Delivery from Denver, C...</td>\n",
              "      <td>online-dealer</td>\n",
              "      <td>NaN</td>\n",
              "    </tr>\n",
              "    <tr>\n",
              "      <th>5608</th>\n",
              "      <td>crossover5609</td>\n",
              "      <td>General Motors</td>\n",
              "      <td>USA</td>\n",
              "      <td>Chevrolet</td>\n",
              "      <td>Traverse LT Cloth</td>\n",
              "      <td>Chevrolet Traverse LT Cloth</td>\n",
              "      <td>2023</td>\n",
              "      <td>crossover</td>\n",
              "      <td>https://www.cars.com/i/large/in/v2/b085f0f7-c7...</td>\n",
              "      <td>Medium</td>\n",
              "      <td>31285.0</td>\n",
              "      <td>1</td>\n",
              "      <td>Used</td>\n",
              "      <td>33171.0</td>\n",
              "      <td>-1.0</td>\n",
              "      <td>917.451474</td>\n",
              "      <td>Woodhouse.com</td>\n",
              "      <td>online-dealer</td>\n",
              "      <td>NaN</td>\n",
              "    </tr>\n",
              "    <tr>\n",
              "      <th>7712</th>\n",
              "      <td>crossover7713</td>\n",
              "      <td>General Motors</td>\n",
              "      <td>USA</td>\n",
              "      <td>Chevrolet</td>\n",
              "      <td>Traverse LT Leather</td>\n",
              "      <td>Chevrolet Traverse LT Leather</td>\n",
              "      <td>2023</td>\n",
              "      <td>crossover</td>\n",
              "      <td>https://www.cars.com/i/large/in/v2/6683c5c9-c0...</td>\n",
              "      <td>High</td>\n",
              "      <td>40590.0</td>\n",
              "      <td>1</td>\n",
              "      <td>Used</td>\n",
              "      <td>4536.0</td>\n",
              "      <td>-1.0</td>\n",
              "      <td>945.194529</td>\n",
              "      <td>John Elway Chevrolet - Delivery from Denver, C...</td>\n",
              "      <td>online-dealer</td>\n",
              "      <td>NaN</td>\n",
              "    </tr>\n",
              "    <tr>\n",
              "      <th>7776</th>\n",
              "      <td>crossover7777</td>\n",
              "      <td>General Motors</td>\n",
              "      <td>USA</td>\n",
              "      <td>Chevrolet</td>\n",
              "      <td>Traverse 1LT</td>\n",
              "      <td>Chevrolet Traverse 1LT</td>\n",
              "      <td>2017</td>\n",
              "      <td>crossover</td>\n",
              "      <td>https://www.cars.com/i/large/in/v2/6683c5c9-c0...</td>\n",
              "      <td>Low</td>\n",
              "      <td>16590.0</td>\n",
              "      <td>7</td>\n",
              "      <td>Used</td>\n",
              "      <td>77764.0</td>\n",
              "      <td>-1.0</td>\n",
              "      <td>522.967532</td>\n",
              "      <td>John Elway Chevrolet - Delivery from Denver, C...</td>\n",
              "      <td>online-dealer</td>\n",
              "      <td>NaN</td>\n",
              "    </tr>\n",
              "    <tr>\n",
              "      <th>9012</th>\n",
              "      <td>crossover9013</td>\n",
              "      <td>General Motors</td>\n",
              "      <td>USA</td>\n",
              "      <td>Chevrolet</td>\n",
              "      <td>Traverse Premier</td>\n",
              "      <td>Chevrolet Traverse Premier</td>\n",
              "      <td>2021</td>\n",
              "      <td>crossover</td>\n",
              "      <td>https://www.cars.com/i/large/in/v2/0ade4296-69...</td>\n",
              "      <td>Medium</td>\n",
              "      <td>32999.0</td>\n",
              "      <td>3</td>\n",
              "      <td>Used</td>\n",
              "      <td>66265.0</td>\n",
              "      <td>-1.0</td>\n",
              "      <td>881.882653</td>\n",
              "      <td>Woodhouse.com</td>\n",
              "      <td>online-dealer</td>\n",
              "      <td>NaN</td>\n",
              "    </tr>\n",
              "    <tr>\n",
              "      <th>18161</th>\n",
              "      <td>crossover18162</td>\n",
              "      <td>Toyota Motor Corporation</td>\n",
              "      <td>Japan</td>\n",
              "      <td>Toyota</td>\n",
              "      <td>RAV4</td>\n",
              "      <td>Toyota RAV4 LE</td>\n",
              "      <td>2021</td>\n",
              "      <td>crossover</td>\n",
              "      <td>https://www.cars.com/i/large/in/v2/756b920c-19...</td>\n",
              "      <td>Low</td>\n",
              "      <td>20468.0</td>\n",
              "      <td>3</td>\n",
              "      <td>Used</td>\n",
              "      <td>120614.0</td>\n",
              "      <td>-1.0</td>\n",
              "      <td>1.000000</td>\n",
              "      <td>Woodhouse.com</td>\n",
              "      <td>online-dealer</td>\n",
              "      <td>NaN</td>\n",
              "    </tr>\n",
              "    <tr>\n",
              "      <th>18188</th>\n",
              "      <td>crossover18189</td>\n",
              "      <td>Toyota Motor Corporation</td>\n",
              "      <td>Japan</td>\n",
              "      <td>Toyota</td>\n",
              "      <td>RAV4</td>\n",
              "      <td>Toyota RAV4 XLE</td>\n",
              "      <td>2021</td>\n",
              "      <td>crossover</td>\n",
              "      <td>https://www.cars.com/i/large/in/v2/756b920c-19...</td>\n",
              "      <td>Medium</td>\n",
              "      <td>24485.0</td>\n",
              "      <td>3</td>\n",
              "      <td>Used</td>\n",
              "      <td>100109.0</td>\n",
              "      <td>-1.0</td>\n",
              "      <td>1.000000</td>\n",
              "      <td>Woodhouse.com</td>\n",
              "      <td>online-dealer</td>\n",
              "      <td>NaN</td>\n",
              "    </tr>\n",
              "    <tr>\n",
              "      <th>19733</th>\n",
              "      <td>crossover19734</td>\n",
              "      <td>Toyota Motor Corporation</td>\n",
              "      <td>Japan</td>\n",
              "      <td>Toyota</td>\n",
              "      <td>RAV4</td>\n",
              "      <td>Toyota RAV4 XLE</td>\n",
              "      <td>2017</td>\n",
              "      <td>crossover</td>\n",
              "      <td>https://www.cars.com/i/large/in/v2/78428447-bd...</td>\n",
              "      <td>Low</td>\n",
              "      <td>21590.0</td>\n",
              "      <td>7</td>\n",
              "      <td>Used</td>\n",
              "      <td>51682.0</td>\n",
              "      <td>-1.0</td>\n",
              "      <td>1481.719894</td>\n",
              "      <td>John Elway Chevrolet - Delivery from Denver, C...</td>\n",
              "      <td>online-dealer</td>\n",
              "      <td>NaN</td>\n",
              "    </tr>\n",
              "    <tr>\n",
              "      <th>23528</th>\n",
              "      <td>crossover23529</td>\n",
              "      <td>Toyota Motor Corporation</td>\n",
              "      <td>Japan</td>\n",
              "      <td>Toyota</td>\n",
              "      <td>Highlander</td>\n",
              "      <td>Toyota Highlander Limited Platinum</td>\n",
              "      <td>2018</td>\n",
              "      <td>crossover</td>\n",
              "      <td>https://www.cars.com/i/large/in/v2/b085f0f7-c7...</td>\n",
              "      <td>Medium</td>\n",
              "      <td>26937.0</td>\n",
              "      <td>6</td>\n",
              "      <td>Used</td>\n",
              "      <td>92690.0</td>\n",
              "      <td>-1.0</td>\n",
              "      <td>1324.918869</td>\n",
              "      <td>Woodhouse.com</td>\n",
              "      <td>online-dealer</td>\n",
              "      <td>NaN</td>\n",
              "    </tr>\n",
              "  </tbody>\n",
              "</table>\n",
              "</div>\n",
              "    <div class=\"colab-df-buttons\">\n",
              "\n",
              "  <div class=\"colab-df-container\">\n",
              "    <button class=\"colab-df-convert\" onclick=\"convertToInteractive('df-d8857603-7a07-4bce-97cd-bedd7338bcb9')\"\n",
              "            title=\"Convert this dataframe to an interactive table.\"\n",
              "            style=\"display:none;\">\n",
              "\n",
              "  <svg xmlns=\"http://www.w3.org/2000/svg\" height=\"24px\" viewBox=\"0 -960 960 960\">\n",
              "    <path d=\"M120-120v-720h720v720H120Zm60-500h600v-160H180v160Zm220 220h160v-160H400v160Zm0 220h160v-160H400v160ZM180-400h160v-160H180v160Zm440 0h160v-160H620v160ZM180-180h160v-160H180v160Zm440 0h160v-160H620v160Z\"/>\n",
              "  </svg>\n",
              "    </button>\n",
              "\n",
              "  <style>\n",
              "    .colab-df-container {\n",
              "      display:flex;\n",
              "      gap: 12px;\n",
              "    }\n",
              "\n",
              "    .colab-df-convert {\n",
              "      background-color: #E8F0FE;\n",
              "      border: none;\n",
              "      border-radius: 50%;\n",
              "      cursor: pointer;\n",
              "      display: none;\n",
              "      fill: #1967D2;\n",
              "      height: 32px;\n",
              "      padding: 0 0 0 0;\n",
              "      width: 32px;\n",
              "    }\n",
              "\n",
              "    .colab-df-convert:hover {\n",
              "      background-color: #E2EBFA;\n",
              "      box-shadow: 0px 1px 2px rgba(60, 64, 67, 0.3), 0px 1px 3px 1px rgba(60, 64, 67, 0.15);\n",
              "      fill: #174EA6;\n",
              "    }\n",
              "\n",
              "    .colab-df-buttons div {\n",
              "      margin-bottom: 4px;\n",
              "    }\n",
              "\n",
              "    [theme=dark] .colab-df-convert {\n",
              "      background-color: #3B4455;\n",
              "      fill: #D2E3FC;\n",
              "    }\n",
              "\n",
              "    [theme=dark] .colab-df-convert:hover {\n",
              "      background-color: #434B5C;\n",
              "      box-shadow: 0px 1px 3px 1px rgba(0, 0, 0, 0.15);\n",
              "      filter: drop-shadow(0px 1px 2px rgba(0, 0, 0, 0.3));\n",
              "      fill: #FFFFFF;\n",
              "    }\n",
              "  </style>\n",
              "\n",
              "    <script>\n",
              "      const buttonEl =\n",
              "        document.querySelector('#df-d8857603-7a07-4bce-97cd-bedd7338bcb9 button.colab-df-convert');\n",
              "      buttonEl.style.display =\n",
              "        google.colab.kernel.accessAllowed ? 'block' : 'none';\n",
              "\n",
              "      async function convertToInteractive(key) {\n",
              "        const element = document.querySelector('#df-d8857603-7a07-4bce-97cd-bedd7338bcb9');\n",
              "        const dataTable =\n",
              "          await google.colab.kernel.invokeFunction('convertToInteractive',\n",
              "                                                    [key], {});\n",
              "        if (!dataTable) return;\n",
              "\n",
              "        const docLinkHtml = 'Like what you see? Visit the ' +\n",
              "          '<a target=\"_blank\" href=https://colab.research.google.com/notebooks/data_table.ipynb>data table notebook</a>'\n",
              "          + ' to learn more about interactive tables.';\n",
              "        element.innerHTML = '';\n",
              "        dataTable['output_type'] = 'display_data';\n",
              "        await google.colab.output.renderOutput(dataTable, element);\n",
              "        const docLink = document.createElement('div');\n",
              "        docLink.innerHTML = docLinkHtml;\n",
              "        element.appendChild(docLink);\n",
              "      }\n",
              "    </script>\n",
              "  </div>\n",
              "\n",
              "\n",
              "<div id=\"df-d6e988ec-b660-487a-9228-78a79b267f75\">\n",
              "  <button class=\"colab-df-quickchart\" onclick=\"quickchart('df-d6e988ec-b660-487a-9228-78a79b267f75')\"\n",
              "            title=\"Suggest charts\"\n",
              "            style=\"display:none;\">\n",
              "\n",
              "<svg xmlns=\"http://www.w3.org/2000/svg\" height=\"24px\"viewBox=\"0 0 24 24\"\n",
              "     width=\"24px\">\n",
              "    <g>\n",
              "        <path d=\"M19 3H5c-1.1 0-2 .9-2 2v14c0 1.1.9 2 2 2h14c1.1 0 2-.9 2-2V5c0-1.1-.9-2-2-2zM9 17H7v-7h2v7zm4 0h-2V7h2v10zm4 0h-2v-4h2v4z\"/>\n",
              "    </g>\n",
              "</svg>\n",
              "  </button>\n",
              "\n",
              "<style>\n",
              "  .colab-df-quickchart {\n",
              "      --bg-color: #E8F0FE;\n",
              "      --fill-color: #1967D2;\n",
              "      --hover-bg-color: #E2EBFA;\n",
              "      --hover-fill-color: #174EA6;\n",
              "      --disabled-fill-color: #AAA;\n",
              "      --disabled-bg-color: #DDD;\n",
              "  }\n",
              "\n",
              "  [theme=dark] .colab-df-quickchart {\n",
              "      --bg-color: #3B4455;\n",
              "      --fill-color: #D2E3FC;\n",
              "      --hover-bg-color: #434B5C;\n",
              "      --hover-fill-color: #FFFFFF;\n",
              "      --disabled-bg-color: #3B4455;\n",
              "      --disabled-fill-color: #666;\n",
              "  }\n",
              "\n",
              "  .colab-df-quickchart {\n",
              "    background-color: var(--bg-color);\n",
              "    border: none;\n",
              "    border-radius: 50%;\n",
              "    cursor: pointer;\n",
              "    display: none;\n",
              "    fill: var(--fill-color);\n",
              "    height: 32px;\n",
              "    padding: 0;\n",
              "    width: 32px;\n",
              "  }\n",
              "\n",
              "  .colab-df-quickchart:hover {\n",
              "    background-color: var(--hover-bg-color);\n",
              "    box-shadow: 0 1px 2px rgba(60, 64, 67, 0.3), 0 1px 3px 1px rgba(60, 64, 67, 0.15);\n",
              "    fill: var(--button-hover-fill-color);\n",
              "  }\n",
              "\n",
              "  .colab-df-quickchart-complete:disabled,\n",
              "  .colab-df-quickchart-complete:disabled:hover {\n",
              "    background-color: var(--disabled-bg-color);\n",
              "    fill: var(--disabled-fill-color);\n",
              "    box-shadow: none;\n",
              "  }\n",
              "\n",
              "  .colab-df-spinner {\n",
              "    border: 2px solid var(--fill-color);\n",
              "    border-color: transparent;\n",
              "    border-bottom-color: var(--fill-color);\n",
              "    animation:\n",
              "      spin 1s steps(1) infinite;\n",
              "  }\n",
              "\n",
              "  @keyframes spin {\n",
              "    0% {\n",
              "      border-color: transparent;\n",
              "      border-bottom-color: var(--fill-color);\n",
              "      border-left-color: var(--fill-color);\n",
              "    }\n",
              "    20% {\n",
              "      border-color: transparent;\n",
              "      border-left-color: var(--fill-color);\n",
              "      border-top-color: var(--fill-color);\n",
              "    }\n",
              "    30% {\n",
              "      border-color: transparent;\n",
              "      border-left-color: var(--fill-color);\n",
              "      border-top-color: var(--fill-color);\n",
              "      border-right-color: var(--fill-color);\n",
              "    }\n",
              "    40% {\n",
              "      border-color: transparent;\n",
              "      border-right-color: var(--fill-color);\n",
              "      border-top-color: var(--fill-color);\n",
              "    }\n",
              "    60% {\n",
              "      border-color: transparent;\n",
              "      border-right-color: var(--fill-color);\n",
              "    }\n",
              "    80% {\n",
              "      border-color: transparent;\n",
              "      border-right-color: var(--fill-color);\n",
              "      border-bottom-color: var(--fill-color);\n",
              "    }\n",
              "    90% {\n",
              "      border-color: transparent;\n",
              "      border-bottom-color: var(--fill-color);\n",
              "    }\n",
              "  }\n",
              "</style>\n",
              "\n",
              "  <script>\n",
              "    async function quickchart(key) {\n",
              "      const quickchartButtonEl =\n",
              "        document.querySelector('#' + key + ' button');\n",
              "      quickchartButtonEl.disabled = true;  // To prevent multiple clicks.\n",
              "      quickchartButtonEl.classList.add('colab-df-spinner');\n",
              "      try {\n",
              "        const charts = await google.colab.kernel.invokeFunction(\n",
              "            'suggestCharts', [key], {});\n",
              "      } catch (error) {\n",
              "        console.error('Error during call to suggestCharts:', error);\n",
              "      }\n",
              "      quickchartButtonEl.classList.remove('colab-df-spinner');\n",
              "      quickchartButtonEl.classList.add('colab-df-quickchart-complete');\n",
              "    }\n",
              "    (() => {\n",
              "      let quickchartButtonEl =\n",
              "        document.querySelector('#df-d6e988ec-b660-487a-9228-78a79b267f75 button');\n",
              "      quickchartButtonEl.style.display =\n",
              "        google.colab.kernel.accessAllowed ? 'block' : 'none';\n",
              "    })();\n",
              "  </script>\n",
              "</div>\n",
              "\n",
              "    </div>\n",
              "  </div>\n"
            ],
            "application/vnd.google.colaboratory.intrinsic+json": {
              "type": "dataframe",
              "variable_name": "missing_data",
              "summary": "{\n  \"name\": \"missing_data\",\n  \"rows\": 590,\n  \"fields\": [\n    {\n      \"column\": \"CAR ID\",\n      \"properties\": {\n        \"dtype\": \"string\",\n        \"num_unique_values\": 590,\n        \"samples\": [\n          \"suv2357\",\n          \"hatchback8464\",\n          \"suv979\"\n        ],\n        \"semantic_type\": \"\",\n        \"description\": \"\"\n      }\n    },\n    {\n      \"column\": \"PARENT COMPANY\",\n      \"properties\": {\n        \"dtype\": \"category\",\n        \"num_unique_values\": 26,\n        \"samples\": [\n          \"Volkswagen Group\",\n          \"Aston Martin Lagonda\",\n          \"General Motors\"\n        ],\n        \"semantic_type\": \"\",\n        \"description\": \"\"\n      }\n    },\n    {\n      \"column\": \"MAKE ORIGIN\",\n      \"properties\": {\n        \"dtype\": \"category\",\n        \"num_unique_values\": 11,\n        \"samples\": [\n          \"United Kingdom\",\n          \"USA\",\n          \"UK\"\n        ],\n        \"semantic_type\": \"\",\n        \"description\": \"\"\n      }\n    },\n    {\n      \"column\": \"BRAND\",\n      \"properties\": {\n        \"dtype\": \"category\",\n        \"num_unique_values\": 53,\n        \"samples\": [\n          \"Maserati\",\n          \"Bentley\",\n          \"Kia\"\n        ],\n        \"semantic_type\": \"\",\n        \"description\": \"\"\n      }\n    },\n    {\n      \"column\": \"MODEL/CLASS\",\n      \"properties\": {\n        \"dtype\": \"category\",\n        \"num_unique_values\": 286,\n        \"samples\": [\n          \"Traverse LS\",\n          \"FJ Cruiser\",\n          \"EQS 580\"\n        ],\n        \"semantic_type\": \"\",\n        \"description\": \"\"\n      }\n    },\n    {\n      \"column\": \"CAR NAME\",\n      \"properties\": {\n        \"dtype\": \"string\",\n        \"num_unique_values\": 416,\n        \"samples\": [\n          \"Lexus SC 400 Base\",\n          \"Chrysler Town & Country Touring Plus\",\n          \"Mercedes-Benz C-Class C 350e\"\n        ],\n        \"semantic_type\": \"\",\n        \"description\": \"\"\n      }\n    },\n    {\n      \"column\": \"MODEL\",\n      \"properties\": {\n        \"dtype\": \"number\",\n        \"std\": 7,\n        \"min\": 1993,\n        \"max\": 2025,\n        \"num_unique_values\": 33,\n        \"samples\": [\n          1997,\n          1998,\n          2000\n        ],\n        \"semantic_type\": \"\",\n        \"description\": \"\"\n      }\n    },\n    {\n      \"column\": \"CAR TYPE\",\n      \"properties\": {\n        \"dtype\": \"category\",\n        \"num_unique_values\": 23,\n        \"samples\": [\n          \"Hybrid Coupe\",\n          \"Electric Van\",\n          \"crossover\"\n        ],\n        \"semantic_type\": \"\",\n        \"description\": \"\"\n      }\n    },\n    {\n      \"column\": \"IMAGE\",\n      \"properties\": {\n        \"dtype\": \"string\",\n        \"num_unique_values\": 555,\n        \"samples\": [\n          \"https://www.cars.com/i/large/in/v2/p2p/3b763693-337b-4cc8-b68f-4fcea3f7c723/6fac344f-7c15-4b18-a30c-0c8b95c08f7b.jpg\",\n          \"https://www.cars.com/i/large/in/v2/p2p/43ec8c6f-89b6-4ce6-a8d1-87c13878d274/f8b69f2e-d075-4b35-81b2-bd5ff9dfefcf.jpeg\",\n          \"https://www.cars.com/i/large/in/v2/p2p/bcb040c1-6fd6-4c74-9aa0-e9e1dbf0dd3c/1fd5a083-5cee-4f33-8e68-d7fad8951eec.jpg\"\n        ],\n        \"semantic_type\": \"\",\n        \"description\": \"\"\n      }\n    },\n    {\n      \"column\": \"PRICE RANGE\",\n      \"properties\": {\n        \"dtype\": \"category\",\n        \"num_unique_values\": 4,\n        \"samples\": [\n          \"Medium\",\n          \"Luxury\",\n          \"Low\"\n        ],\n        \"semantic_type\": \"\",\n        \"description\": \"\"\n      }\n    },\n    {\n      \"column\": \"PRICE($)\",\n      \"properties\": {\n        \"dtype\": \"number\",\n        \"std\": 107040.03176740643,\n        \"min\": 1000.0,\n        \"max\": 2399999.0,\n        \"num_unique_values\": 368,\n        \"samples\": [\n          8550.0,\n          6500.0,\n          31206.0\n        ],\n        \"semantic_type\": \"\",\n        \"description\": \"\"\n      }\n    },\n    {\n      \"column\": \"AGE OF CAR\",\n      \"properties\": {\n        \"dtype\": \"number\",\n        \"std\": 7,\n        \"min\": -1,\n        \"max\": 31,\n        \"num_unique_values\": 33,\n        \"samples\": [\n          27,\n          26,\n          24\n        ],\n        \"semantic_type\": \"\",\n        \"description\": \"\"\n      }\n    },\n    {\n      \"column\": \"STOCK TYPE\",\n      \"properties\": {\n        \"dtype\": \"category\",\n        \"num_unique_values\": 3,\n        \"samples\": [\n          \"Used\",\n          \"New\",\n          \"Use\"\n        ],\n        \"semantic_type\": \"\",\n        \"description\": \"\"\n      }\n    },\n    {\n      \"column\": \"MILEAGE\",\n      \"properties\": {\n        \"dtype\": \"number\",\n        \"std\": 61901.133805571946,\n        \"min\": 0.0,\n        \"max\": 314000.0,\n        \"num_unique_values\": 475,\n        \"samples\": [\n          56186.0,\n          18000.0,\n          92690.0\n        ],\n        \"semantic_type\": \"\",\n        \"description\": \"\"\n      }\n    },\n    {\n      \"column\": \"RATING\",\n      \"properties\": {\n        \"dtype\": \"number\",\n        \"std\": 2.2377924419089283,\n        \"min\": -1.0,\n        \"max\": 5.0,\n        \"num_unique_values\": 208,\n        \"samples\": [\n          4.6000000000000005,\n          4.328571429,\n          3.3684210526315788\n        ],\n        \"semantic_type\": \"\",\n        \"description\": \"\"\n      }\n    },\n    {\n      \"column\": \"REVIEW\",\n      \"properties\": {\n        \"dtype\": \"number\",\n        \"std\": 522.6930182887755,\n        \"min\": -1.0,\n        \"max\": 5388.0,\n        \"num_unique_values\": 297,\n        \"samples\": [\n          889.8227848101266,\n          111.0,\n          149.84375\n        ],\n        \"semantic_type\": \"\",\n        \"description\": \"\"\n      }\n    },\n    {\n      \"column\": \"DEALER NAME\",\n      \"properties\": {\n        \"dtype\": \"category\",\n        \"num_unique_values\": 8,\n        \"samples\": [\n          \"Woodhouse.com\",\n          \"Land Rover Rocklin - Delivery from Rocklin, California (For Redding)\",\n          \"John Elway Chevrolet - Delivery from Denver, CO (Albuquerque-Sante Fe)\"\n        ],\n        \"semantic_type\": \"\",\n        \"description\": \"\"\n      }\n    },\n    {\n      \"column\": \"DEALER LOCATION (CITY)\",\n      \"properties\": {\n        \"dtype\": \"string\",\n        \"num_unique_values\": 369,\n        \"samples\": [\n          \"Roswell\",\n          \"Orange\",\n          \"Boise\"\n        ],\n        \"semantic_type\": \"\",\n        \"description\": \"\"\n      }\n    },\n    {\n      \"column\": \"DEALER LOCATION (STATE)\",\n      \"properties\": {\n        \"dtype\": \"category\",\n        \"num_unique_values\": 51,\n        \"samples\": [\n          \"Alaska\",\n          \"New Mexico\",\n          \"New Hampshire\"\n        ],\n        \"semantic_type\": \"\",\n        \"description\": \"\"\n      }\n    }\n  ]\n}"
            }
          },
          "metadata": {},
          "execution_count": 4
        }
      ]
    },
    {
      "cell_type": "markdown",
      "source": [
        "Saw that `DEALER LOCATION (STATE)` was NaN (i dont think this is a problem)   \n",
        "So display data with filter on not showing `dropped_data[\"DEALER LOCATION (STATE)\"].notna()`"
      ],
      "metadata": {
        "id": "HDmERU43vwYf"
      }
    },
    {
      "cell_type": "code",
      "source": [
        "missing_data[missing_data[\"DEALER LOCATION (STATE)\"].notna()]"
      ],
      "metadata": {
        "colab": {
          "base_uri": "https://localhost:8080/"
        },
        "collapsed": true,
        "id": "UCiSmZMgwHOy",
        "outputId": "1e3612f3-5a5a-46ca-8681-568ae1cd390c"
      },
      "execution_count": null,
      "outputs": [
        {
          "output_type": "execute_result",
          "data": {
            "text/plain": [
              "                 CAR ID                      PARENT COMPANY    MAKE ORIGIN  \\\n",
              "66025    crossover66026  Renault-Nissan-Mitsubishi Alliance          Japan   \n",
              "73136    crossover73137                  Subaru Corporation          Japan   \n",
              "73656    Convertible479                          Stellantis  United States   \n",
              "73681    Convertible504                    Volkswagen Group        Germany   \n",
              "74297   Convertible1120                           BMW Group        Germany   \n",
              "...                 ...                                 ...            ...   \n",
              "217098        Wagon6659                  Ford Motor Company            USA   \n",
              "234322     LUXUARY17165            Toyota Motor Corporation          Japan   \n",
              "234351     LUXUARY17194            Toyota Motor Corporation          Japan   \n",
              "264093     LUXUARY46936                           BMW Group        Germany   \n",
              "265301     LUXUARY48144                    Volkswagen Group        Germany   \n",
              "\n",
              "           BRAND             MODEL/CLASS                       CAR NAME  \\\n",
              "66025     Nissan       Rogue SV w/SL Pkg       Nissan Rogue SV w/SL Pkg   \n",
              "73136     Subaru  Forester 2.5 X Limited  Subaru Forester 2.5 X Limited   \n",
              "73656   Chrysler              PT Cruiser         Chrysler PT Cruiser GT   \n",
              "73681       Audi                    RS 5                  Audi RS 5 4.2   \n",
              "74297        BMW                      Z4           BMW Z4 2.5i Roadster   \n",
              "...          ...                     ...                            ...   \n",
              "217098      Ford                  Taurus                 Ford Taurus SE   \n",
              "234322     Lexus                  LX 570         Lexus LX 570 Three-Row   \n",
              "234351     Lexus                  LX 470              Lexus LX 470 Base   \n",
              "264093       BMW                      X3                    BMW X3 3.0i   \n",
              "265301   Porsche                 Cayenne              Porsche Cayenne S   \n",
              "\n",
              "        MODEL     CAR TYPE                                              IMAGE  \\\n",
              "66025    2012    crossover  https://www.cars.com/i/large/in/v2/p2p/35c6918...   \n",
              "73136    2009    crossover  https://www.cars.com/i/large/in/v2/p2p/e7ede82...   \n",
              "73656    2005  convertible  https://www.cars.com/i/large/in/v2/p2p/c26f64a...   \n",
              "73681    2015  convertible  https://www.cars.com/i/large/in/v2/p2p/f51c22c...   \n",
              "74297    2003  convertible  https://www.cars.com/i/large/in/v2/p2p/6a9d9aa...   \n",
              "...       ...          ...                                                ...   \n",
              "217098   2002        Wagon  https://www.cars.com/i/large/in/v2/p2p/faf1fa5...   \n",
              "234322   2021          SUV  https://www.cars.com/i/large/in/v2/a79430ef-2e...   \n",
              "234351   1999          SUV  https://www.cars.com/i/large/in/v2/p2p/7803ebd...   \n",
              "264093   2006          SUV  https://www.cars.com/i/large/in/v2/p2p/719f9c8...   \n",
              "265301   2017          SUV  https://www.cars.com/i/large/in/v2/p2p/2841ce3...   \n",
              "\n",
              "       PRICE RANGE  PRICE($)  AGE OF CAR STOCK TYPE   MILEAGE    RATING  \\\n",
              "66025          Low    6999.0          12       Used   99021.0  4.400000   \n",
              "73136          Low    6450.0          15       Used  199999.0  3.800000   \n",
              "73656       Medium   19950.0          19       Used   10101.0  3.760000   \n",
              "73681       Medium   36997.0           9       Used   62400.0  3.800000   \n",
              "74297          Low   12500.0          21       Used   34500.0  4.412739   \n",
              "...            ...       ...         ...        ...       ...       ...   \n",
              "217098         Low    3250.0          22       Used   98795.0  2.950000   \n",
              "234322         NaN   76900.0           3       Used   37501.0 -1.000000   \n",
              "234351         Low    8250.0          25       Used  180800.0  3.636842   \n",
              "264093         Low    4500.0          18       Used   95000.0  4.421666   \n",
              "265301      Medium   29000.0           7       Used  137000.0  4.359404   \n",
              "\n",
              "             REVIEW                                      DEALER NAME  \\\n",
              "66025    290.900000                                              NaN   \n",
              "73136    309.883721                                              NaN   \n",
              "73656    219.555556                                              NaN   \n",
              "73681      5.000000                                              NaN   \n",
              "74297    914.004926                                              NaN   \n",
              "...             ...                                              ...   \n",
              "217098    39.600000                                              NaN   \n",
              "234322     2.000000  Motorcars International of Springfield Missouri   \n",
              "234351   186.031250                                              NaN   \n",
              "264093  1167.386581                                              NaN   \n",
              "265301   623.409091                                              NaN   \n",
              "\n",
              "       DEALER LOCATION (CITY) DEALER LOCATION (STATE)  \n",
              "66025                  Dallas                   Texas  \n",
              "73136                 Danbury             Connecticut  \n",
              "73656            Saint George                    Utah  \n",
              "73681              Naperville                Illinois  \n",
              "74297             Scott Depot           West Virginia  \n",
              "...                       ...                     ...  \n",
              "217098           East Hanover              New Jersey  \n",
              "234322            Springfield                Missouri  \n",
              "234351              Riverside             Connecticut  \n",
              "264093             Washington    District of Colombia  \n",
              "265301                Jackson             Mississippi  \n",
              "\n",
              "[457 rows x 19 columns]"
            ],
            "text/html": [
              "\n",
              "  <div id=\"df-c5575076-bfd0-40d1-8309-c71f9103956b\" class=\"colab-df-container\">\n",
              "    <div>\n",
              "<style scoped>\n",
              "    .dataframe tbody tr th:only-of-type {\n",
              "        vertical-align: middle;\n",
              "    }\n",
              "\n",
              "    .dataframe tbody tr th {\n",
              "        vertical-align: top;\n",
              "    }\n",
              "\n",
              "    .dataframe thead th {\n",
              "        text-align: right;\n",
              "    }\n",
              "</style>\n",
              "<table border=\"1\" class=\"dataframe\">\n",
              "  <thead>\n",
              "    <tr style=\"text-align: right;\">\n",
              "      <th></th>\n",
              "      <th>CAR ID</th>\n",
              "      <th>PARENT COMPANY</th>\n",
              "      <th>MAKE ORIGIN</th>\n",
              "      <th>BRAND</th>\n",
              "      <th>MODEL/CLASS</th>\n",
              "      <th>CAR NAME</th>\n",
              "      <th>MODEL</th>\n",
              "      <th>CAR TYPE</th>\n",
              "      <th>IMAGE</th>\n",
              "      <th>PRICE RANGE</th>\n",
              "      <th>PRICE($)</th>\n",
              "      <th>AGE OF CAR</th>\n",
              "      <th>STOCK TYPE</th>\n",
              "      <th>MILEAGE</th>\n",
              "      <th>RATING</th>\n",
              "      <th>REVIEW</th>\n",
              "      <th>DEALER NAME</th>\n",
              "      <th>DEALER LOCATION (CITY)</th>\n",
              "      <th>DEALER LOCATION (STATE)</th>\n",
              "    </tr>\n",
              "  </thead>\n",
              "  <tbody>\n",
              "    <tr>\n",
              "      <th>66025</th>\n",
              "      <td>crossover66026</td>\n",
              "      <td>Renault-Nissan-Mitsubishi Alliance</td>\n",
              "      <td>Japan</td>\n",
              "      <td>Nissan</td>\n",
              "      <td>Rogue SV w/SL Pkg</td>\n",
              "      <td>Nissan Rogue SV w/SL Pkg</td>\n",
              "      <td>2012</td>\n",
              "      <td>crossover</td>\n",
              "      <td>https://www.cars.com/i/large/in/v2/p2p/35c6918...</td>\n",
              "      <td>Low</td>\n",
              "      <td>6999.0</td>\n",
              "      <td>12</td>\n",
              "      <td>Used</td>\n",
              "      <td>99021.0</td>\n",
              "      <td>4.400000</td>\n",
              "      <td>290.900000</td>\n",
              "      <td>NaN</td>\n",
              "      <td>Dallas</td>\n",
              "      <td>Texas</td>\n",
              "    </tr>\n",
              "    <tr>\n",
              "      <th>73136</th>\n",
              "      <td>crossover73137</td>\n",
              "      <td>Subaru Corporation</td>\n",
              "      <td>Japan</td>\n",
              "      <td>Subaru</td>\n",
              "      <td>Forester 2.5 X Limited</td>\n",
              "      <td>Subaru Forester 2.5 X Limited</td>\n",
              "      <td>2009</td>\n",
              "      <td>crossover</td>\n",
              "      <td>https://www.cars.com/i/large/in/v2/p2p/e7ede82...</td>\n",
              "      <td>Low</td>\n",
              "      <td>6450.0</td>\n",
              "      <td>15</td>\n",
              "      <td>Used</td>\n",
              "      <td>199999.0</td>\n",
              "      <td>3.800000</td>\n",
              "      <td>309.883721</td>\n",
              "      <td>NaN</td>\n",
              "      <td>Danbury</td>\n",
              "      <td>Connecticut</td>\n",
              "    </tr>\n",
              "    <tr>\n",
              "      <th>73656</th>\n",
              "      <td>Convertible479</td>\n",
              "      <td>Stellantis</td>\n",
              "      <td>United States</td>\n",
              "      <td>Chrysler</td>\n",
              "      <td>PT Cruiser</td>\n",
              "      <td>Chrysler PT Cruiser GT</td>\n",
              "      <td>2005</td>\n",
              "      <td>convertible</td>\n",
              "      <td>https://www.cars.com/i/large/in/v2/p2p/c26f64a...</td>\n",
              "      <td>Medium</td>\n",
              "      <td>19950.0</td>\n",
              "      <td>19</td>\n",
              "      <td>Used</td>\n",
              "      <td>10101.0</td>\n",
              "      <td>3.760000</td>\n",
              "      <td>219.555556</td>\n",
              "      <td>NaN</td>\n",
              "      <td>Saint George</td>\n",
              "      <td>Utah</td>\n",
              "    </tr>\n",
              "    <tr>\n",
              "      <th>73681</th>\n",
              "      <td>Convertible504</td>\n",
              "      <td>Volkswagen Group</td>\n",
              "      <td>Germany</td>\n",
              "      <td>Audi</td>\n",
              "      <td>RS 5</td>\n",
              "      <td>Audi RS 5 4.2</td>\n",
              "      <td>2015</td>\n",
              "      <td>convertible</td>\n",
              "      <td>https://www.cars.com/i/large/in/v2/p2p/f51c22c...</td>\n",
              "      <td>Medium</td>\n",
              "      <td>36997.0</td>\n",
              "      <td>9</td>\n",
              "      <td>Used</td>\n",
              "      <td>62400.0</td>\n",
              "      <td>3.800000</td>\n",
              "      <td>5.000000</td>\n",
              "      <td>NaN</td>\n",
              "      <td>Naperville</td>\n",
              "      <td>Illinois</td>\n",
              "    </tr>\n",
              "    <tr>\n",
              "      <th>74297</th>\n",
              "      <td>Convertible1120</td>\n",
              "      <td>BMW Group</td>\n",
              "      <td>Germany</td>\n",
              "      <td>BMW</td>\n",
              "      <td>Z4</td>\n",
              "      <td>BMW Z4 2.5i Roadster</td>\n",
              "      <td>2003</td>\n",
              "      <td>convertible</td>\n",
              "      <td>https://www.cars.com/i/large/in/v2/p2p/6a9d9aa...</td>\n",
              "      <td>Low</td>\n",
              "      <td>12500.0</td>\n",
              "      <td>21</td>\n",
              "      <td>Used</td>\n",
              "      <td>34500.0</td>\n",
              "      <td>4.412739</td>\n",
              "      <td>914.004926</td>\n",
              "      <td>NaN</td>\n",
              "      <td>Scott Depot</td>\n",
              "      <td>West Virginia</td>\n",
              "    </tr>\n",
              "    <tr>\n",
              "      <th>...</th>\n",
              "      <td>...</td>\n",
              "      <td>...</td>\n",
              "      <td>...</td>\n",
              "      <td>...</td>\n",
              "      <td>...</td>\n",
              "      <td>...</td>\n",
              "      <td>...</td>\n",
              "      <td>...</td>\n",
              "      <td>...</td>\n",
              "      <td>...</td>\n",
              "      <td>...</td>\n",
              "      <td>...</td>\n",
              "      <td>...</td>\n",
              "      <td>...</td>\n",
              "      <td>...</td>\n",
              "      <td>...</td>\n",
              "      <td>...</td>\n",
              "      <td>...</td>\n",
              "      <td>...</td>\n",
              "    </tr>\n",
              "    <tr>\n",
              "      <th>217098</th>\n",
              "      <td>Wagon6659</td>\n",
              "      <td>Ford Motor Company</td>\n",
              "      <td>USA</td>\n",
              "      <td>Ford</td>\n",
              "      <td>Taurus</td>\n",
              "      <td>Ford Taurus SE</td>\n",
              "      <td>2002</td>\n",
              "      <td>Wagon</td>\n",
              "      <td>https://www.cars.com/i/large/in/v2/p2p/faf1fa5...</td>\n",
              "      <td>Low</td>\n",
              "      <td>3250.0</td>\n",
              "      <td>22</td>\n",
              "      <td>Used</td>\n",
              "      <td>98795.0</td>\n",
              "      <td>2.950000</td>\n",
              "      <td>39.600000</td>\n",
              "      <td>NaN</td>\n",
              "      <td>East Hanover</td>\n",
              "      <td>New Jersey</td>\n",
              "    </tr>\n",
              "    <tr>\n",
              "      <th>234322</th>\n",
              "      <td>LUXUARY17165</td>\n",
              "      <td>Toyota Motor Corporation</td>\n",
              "      <td>Japan</td>\n",
              "      <td>Lexus</td>\n",
              "      <td>LX 570</td>\n",
              "      <td>Lexus LX 570 Three-Row</td>\n",
              "      <td>2021</td>\n",
              "      <td>SUV</td>\n",
              "      <td>https://www.cars.com/i/large/in/v2/a79430ef-2e...</td>\n",
              "      <td>NaN</td>\n",
              "      <td>76900.0</td>\n",
              "      <td>3</td>\n",
              "      <td>Used</td>\n",
              "      <td>37501.0</td>\n",
              "      <td>-1.000000</td>\n",
              "      <td>2.000000</td>\n",
              "      <td>Motorcars International of Springfield Missouri</td>\n",
              "      <td>Springfield</td>\n",
              "      <td>Missouri</td>\n",
              "    </tr>\n",
              "    <tr>\n",
              "      <th>234351</th>\n",
              "      <td>LUXUARY17194</td>\n",
              "      <td>Toyota Motor Corporation</td>\n",
              "      <td>Japan</td>\n",
              "      <td>Lexus</td>\n",
              "      <td>LX 470</td>\n",
              "      <td>Lexus LX 470 Base</td>\n",
              "      <td>1999</td>\n",
              "      <td>SUV</td>\n",
              "      <td>https://www.cars.com/i/large/in/v2/p2p/7803ebd...</td>\n",
              "      <td>Low</td>\n",
              "      <td>8250.0</td>\n",
              "      <td>25</td>\n",
              "      <td>Used</td>\n",
              "      <td>180800.0</td>\n",
              "      <td>3.636842</td>\n",
              "      <td>186.031250</td>\n",
              "      <td>NaN</td>\n",
              "      <td>Riverside</td>\n",
              "      <td>Connecticut</td>\n",
              "    </tr>\n",
              "    <tr>\n",
              "      <th>264093</th>\n",
              "      <td>LUXUARY46936</td>\n",
              "      <td>BMW Group</td>\n",
              "      <td>Germany</td>\n",
              "      <td>BMW</td>\n",
              "      <td>X3</td>\n",
              "      <td>BMW X3 3.0i</td>\n",
              "      <td>2006</td>\n",
              "      <td>SUV</td>\n",
              "      <td>https://www.cars.com/i/large/in/v2/p2p/719f9c8...</td>\n",
              "      <td>Low</td>\n",
              "      <td>4500.0</td>\n",
              "      <td>18</td>\n",
              "      <td>Used</td>\n",
              "      <td>95000.0</td>\n",
              "      <td>4.421666</td>\n",
              "      <td>1167.386581</td>\n",
              "      <td>NaN</td>\n",
              "      <td>Washington</td>\n",
              "      <td>District of Colombia</td>\n",
              "    </tr>\n",
              "    <tr>\n",
              "      <th>265301</th>\n",
              "      <td>LUXUARY48144</td>\n",
              "      <td>Volkswagen Group</td>\n",
              "      <td>Germany</td>\n",
              "      <td>Porsche</td>\n",
              "      <td>Cayenne</td>\n",
              "      <td>Porsche Cayenne S</td>\n",
              "      <td>2017</td>\n",
              "      <td>SUV</td>\n",
              "      <td>https://www.cars.com/i/large/in/v2/p2p/2841ce3...</td>\n",
              "      <td>Medium</td>\n",
              "      <td>29000.0</td>\n",
              "      <td>7</td>\n",
              "      <td>Used</td>\n",
              "      <td>137000.0</td>\n",
              "      <td>4.359404</td>\n",
              "      <td>623.409091</td>\n",
              "      <td>NaN</td>\n",
              "      <td>Jackson</td>\n",
              "      <td>Mississippi</td>\n",
              "    </tr>\n",
              "  </tbody>\n",
              "</table>\n",
              "<p>457 rows × 19 columns</p>\n",
              "</div>\n",
              "    <div class=\"colab-df-buttons\">\n",
              "\n",
              "  <div class=\"colab-df-container\">\n",
              "    <button class=\"colab-df-convert\" onclick=\"convertToInteractive('df-c5575076-bfd0-40d1-8309-c71f9103956b')\"\n",
              "            title=\"Convert this dataframe to an interactive table.\"\n",
              "            style=\"display:none;\">\n",
              "\n",
              "  <svg xmlns=\"http://www.w3.org/2000/svg\" height=\"24px\" viewBox=\"0 -960 960 960\">\n",
              "    <path d=\"M120-120v-720h720v720H120Zm60-500h600v-160H180v160Zm220 220h160v-160H400v160Zm0 220h160v-160H400v160ZM180-400h160v-160H180v160Zm440 0h160v-160H620v160ZM180-180h160v-160H180v160Zm440 0h160v-160H620v160Z\"/>\n",
              "  </svg>\n",
              "    </button>\n",
              "\n",
              "  <style>\n",
              "    .colab-df-container {\n",
              "      display:flex;\n",
              "      gap: 12px;\n",
              "    }\n",
              "\n",
              "    .colab-df-convert {\n",
              "      background-color: #E8F0FE;\n",
              "      border: none;\n",
              "      border-radius: 50%;\n",
              "      cursor: pointer;\n",
              "      display: none;\n",
              "      fill: #1967D2;\n",
              "      height: 32px;\n",
              "      padding: 0 0 0 0;\n",
              "      width: 32px;\n",
              "    }\n",
              "\n",
              "    .colab-df-convert:hover {\n",
              "      background-color: #E2EBFA;\n",
              "      box-shadow: 0px 1px 2px rgba(60, 64, 67, 0.3), 0px 1px 3px 1px rgba(60, 64, 67, 0.15);\n",
              "      fill: #174EA6;\n",
              "    }\n",
              "\n",
              "    .colab-df-buttons div {\n",
              "      margin-bottom: 4px;\n",
              "    }\n",
              "\n",
              "    [theme=dark] .colab-df-convert {\n",
              "      background-color: #3B4455;\n",
              "      fill: #D2E3FC;\n",
              "    }\n",
              "\n",
              "    [theme=dark] .colab-df-convert:hover {\n",
              "      background-color: #434B5C;\n",
              "      box-shadow: 0px 1px 3px 1px rgba(0, 0, 0, 0.15);\n",
              "      filter: drop-shadow(0px 1px 2px rgba(0, 0, 0, 0.3));\n",
              "      fill: #FFFFFF;\n",
              "    }\n",
              "  </style>\n",
              "\n",
              "    <script>\n",
              "      const buttonEl =\n",
              "        document.querySelector('#df-c5575076-bfd0-40d1-8309-c71f9103956b button.colab-df-convert');\n",
              "      buttonEl.style.display =\n",
              "        google.colab.kernel.accessAllowed ? 'block' : 'none';\n",
              "\n",
              "      async function convertToInteractive(key) {\n",
              "        const element = document.querySelector('#df-c5575076-bfd0-40d1-8309-c71f9103956b');\n",
              "        const dataTable =\n",
              "          await google.colab.kernel.invokeFunction('convertToInteractive',\n",
              "                                                    [key], {});\n",
              "        if (!dataTable) return;\n",
              "\n",
              "        const docLinkHtml = 'Like what you see? Visit the ' +\n",
              "          '<a target=\"_blank\" href=https://colab.research.google.com/notebooks/data_table.ipynb>data table notebook</a>'\n",
              "          + ' to learn more about interactive tables.';\n",
              "        element.innerHTML = '';\n",
              "        dataTable['output_type'] = 'display_data';\n",
              "        await google.colab.output.renderOutput(dataTable, element);\n",
              "        const docLink = document.createElement('div');\n",
              "        docLink.innerHTML = docLinkHtml;\n",
              "        element.appendChild(docLink);\n",
              "      }\n",
              "    </script>\n",
              "  </div>\n",
              "\n",
              "\n",
              "<div id=\"df-3336ebfe-132a-4784-91d0-8a0a67fbbe98\">\n",
              "  <button class=\"colab-df-quickchart\" onclick=\"quickchart('df-3336ebfe-132a-4784-91d0-8a0a67fbbe98')\"\n",
              "            title=\"Suggest charts\"\n",
              "            style=\"display:none;\">\n",
              "\n",
              "<svg xmlns=\"http://www.w3.org/2000/svg\" height=\"24px\"viewBox=\"0 0 24 24\"\n",
              "     width=\"24px\">\n",
              "    <g>\n",
              "        <path d=\"M19 3H5c-1.1 0-2 .9-2 2v14c0 1.1.9 2 2 2h14c1.1 0 2-.9 2-2V5c0-1.1-.9-2-2-2zM9 17H7v-7h2v7zm4 0h-2V7h2v10zm4 0h-2v-4h2v4z\"/>\n",
              "    </g>\n",
              "</svg>\n",
              "  </button>\n",
              "\n",
              "<style>\n",
              "  .colab-df-quickchart {\n",
              "      --bg-color: #E8F0FE;\n",
              "      --fill-color: #1967D2;\n",
              "      --hover-bg-color: #E2EBFA;\n",
              "      --hover-fill-color: #174EA6;\n",
              "      --disabled-fill-color: #AAA;\n",
              "      --disabled-bg-color: #DDD;\n",
              "  }\n",
              "\n",
              "  [theme=dark] .colab-df-quickchart {\n",
              "      --bg-color: #3B4455;\n",
              "      --fill-color: #D2E3FC;\n",
              "      --hover-bg-color: #434B5C;\n",
              "      --hover-fill-color: #FFFFFF;\n",
              "      --disabled-bg-color: #3B4455;\n",
              "      --disabled-fill-color: #666;\n",
              "  }\n",
              "\n",
              "  .colab-df-quickchart {\n",
              "    background-color: var(--bg-color);\n",
              "    border: none;\n",
              "    border-radius: 50%;\n",
              "    cursor: pointer;\n",
              "    display: none;\n",
              "    fill: var(--fill-color);\n",
              "    height: 32px;\n",
              "    padding: 0;\n",
              "    width: 32px;\n",
              "  }\n",
              "\n",
              "  .colab-df-quickchart:hover {\n",
              "    background-color: var(--hover-bg-color);\n",
              "    box-shadow: 0 1px 2px rgba(60, 64, 67, 0.3), 0 1px 3px 1px rgba(60, 64, 67, 0.15);\n",
              "    fill: var(--button-hover-fill-color);\n",
              "  }\n",
              "\n",
              "  .colab-df-quickchart-complete:disabled,\n",
              "  .colab-df-quickchart-complete:disabled:hover {\n",
              "    background-color: var(--disabled-bg-color);\n",
              "    fill: var(--disabled-fill-color);\n",
              "    box-shadow: none;\n",
              "  }\n",
              "\n",
              "  .colab-df-spinner {\n",
              "    border: 2px solid var(--fill-color);\n",
              "    border-color: transparent;\n",
              "    border-bottom-color: var(--fill-color);\n",
              "    animation:\n",
              "      spin 1s steps(1) infinite;\n",
              "  }\n",
              "\n",
              "  @keyframes spin {\n",
              "    0% {\n",
              "      border-color: transparent;\n",
              "      border-bottom-color: var(--fill-color);\n",
              "      border-left-color: var(--fill-color);\n",
              "    }\n",
              "    20% {\n",
              "      border-color: transparent;\n",
              "      border-left-color: var(--fill-color);\n",
              "      border-top-color: var(--fill-color);\n",
              "    }\n",
              "    30% {\n",
              "      border-color: transparent;\n",
              "      border-left-color: var(--fill-color);\n",
              "      border-top-color: var(--fill-color);\n",
              "      border-right-color: var(--fill-color);\n",
              "    }\n",
              "    40% {\n",
              "      border-color: transparent;\n",
              "      border-right-color: var(--fill-color);\n",
              "      border-top-color: var(--fill-color);\n",
              "    }\n",
              "    60% {\n",
              "      border-color: transparent;\n",
              "      border-right-color: var(--fill-color);\n",
              "    }\n",
              "    80% {\n",
              "      border-color: transparent;\n",
              "      border-right-color: var(--fill-color);\n",
              "      border-bottom-color: var(--fill-color);\n",
              "    }\n",
              "    90% {\n",
              "      border-color: transparent;\n",
              "      border-bottom-color: var(--fill-color);\n",
              "    }\n",
              "  }\n",
              "</style>\n",
              "\n",
              "  <script>\n",
              "    async function quickchart(key) {\n",
              "      const quickchartButtonEl =\n",
              "        document.querySelector('#' + key + ' button');\n",
              "      quickchartButtonEl.disabled = true;  // To prevent multiple clicks.\n",
              "      quickchartButtonEl.classList.add('colab-df-spinner');\n",
              "      try {\n",
              "        const charts = await google.colab.kernel.invokeFunction(\n",
              "            'suggestCharts', [key], {});\n",
              "      } catch (error) {\n",
              "        console.error('Error during call to suggestCharts:', error);\n",
              "      }\n",
              "      quickchartButtonEl.classList.remove('colab-df-spinner');\n",
              "      quickchartButtonEl.classList.add('colab-df-quickchart-complete');\n",
              "    }\n",
              "    (() => {\n",
              "      let quickchartButtonEl =\n",
              "        document.querySelector('#df-3336ebfe-132a-4784-91d0-8a0a67fbbe98 button');\n",
              "      quickchartButtonEl.style.display =\n",
              "        google.colab.kernel.accessAllowed ? 'block' : 'none';\n",
              "    })();\n",
              "  </script>\n",
              "</div>\n",
              "\n",
              "    </div>\n",
              "  </div>\n"
            ],
            "application/vnd.google.colaboratory.intrinsic+json": {
              "type": "dataframe",
              "summary": "{\n  \"name\": \"missing_data[missing_data[\\\"DEALER LOCATION (STATE)\\\"]\",\n  \"rows\": 457,\n  \"fields\": [\n    {\n      \"column\": \"CAR ID\",\n      \"properties\": {\n        \"dtype\": \"string\",\n        \"num_unique_values\": 457,\n        \"samples\": [\n          \"minivan3733\",\n          \"Convertible5773\",\n          \"pickup3318\"\n        ],\n        \"semantic_type\": \"\",\n        \"description\": \"\"\n      }\n    },\n    {\n      \"column\": \"PARENT COMPANY\",\n      \"properties\": {\n        \"dtype\": \"category\",\n        \"num_unique_values\": 26,\n        \"samples\": [\n          \"Toyota Motor Corporation\",\n          \"Volvo Car Group\",\n          \"Renault-Nissan-Mitsubishi Alliance\"\n        ],\n        \"semantic_type\": \"\",\n        \"description\": \"\"\n      }\n    },\n    {\n      \"column\": \"MAKE ORIGIN\",\n      \"properties\": {\n        \"dtype\": \"category\",\n        \"num_unique_values\": 10,\n        \"samples\": [\n          \"South Korea\",\n          \"United States\",\n          \"Italy\"\n        ],\n        \"semantic_type\": \"\",\n        \"description\": \"\"\n      }\n    },\n    {\n      \"column\": \"BRAND\",\n      \"properties\": {\n        \"dtype\": \"category\",\n        \"num_unique_values\": 50,\n        \"samples\": [\n          \"Honda\",\n          \"Scion\",\n          \"Mazda\"\n        ],\n        \"semantic_type\": \"\",\n        \"description\": \"\"\n      }\n    },\n    {\n      \"column\": \"MODEL/CLASS\",\n      \"properties\": {\n        \"dtype\": \"string\",\n        \"num_unique_values\": 243,\n        \"samples\": [\n          \"F-TYPE\",\n          \"650S\",\n          \"RS 6\"\n        ],\n        \"semantic_type\": \"\",\n        \"description\": \"\"\n      }\n    },\n    {\n      \"column\": \"CAR NAME\",\n      \"properties\": {\n        \"dtype\": \"string\",\n        \"num_unique_values\": 336,\n        \"samples\": [\n          \"Mazda RX-8 Base\",\n          \"Pontiac G6 GXP\",\n          \"Volkswagen CC Luxury\"\n        ],\n        \"semantic_type\": \"\",\n        \"description\": \"\"\n      }\n    },\n    {\n      \"column\": \"MODEL\",\n      \"properties\": {\n        \"dtype\": \"number\",\n        \"std\": 7,\n        \"min\": 1993,\n        \"max\": 2024,\n        \"num_unique_values\": 32,\n        \"samples\": [\n          2021,\n          1995,\n          1999\n        ],\n        \"semantic_type\": \"\",\n        \"description\": \"\"\n      }\n    },\n    {\n      \"column\": \"CAR TYPE\",\n      \"properties\": {\n        \"dtype\": \"category\",\n        \"num_unique_values\": 19,\n        \"samples\": [\n          \"crossover\",\n          \"Electric Coupe\",\n          \"Hybrid Truck\"\n        ],\n        \"semantic_type\": \"\",\n        \"description\": \"\"\n      }\n    },\n    {\n      \"column\": \"IMAGE\",\n      \"properties\": {\n        \"dtype\": \"string\",\n        \"num_unique_values\": 437,\n        \"samples\": [\n          \"https://www.cars.com/i/large/in/v2/p2p/c28e0a8f-ca3b-492d-9a74-3f0e747a27a2/f844baea-1968-4722-9cd7-752ca110126f\",\n          \"https://www.cars.com/i/large/in/v2/p2p/e5ecf39d-cc63-4210-82aa-75b558dfaa8c/2a063190-f424-4cfc-9f35-02f237f5c785.jpeg\",\n          \"https://www.cars.com/i/large/in/v2/p2p/c7d1b3ba-aaba-4813-8e7a-07d631f88c01/b6b77e3c-4883-4141-9e26-2cd36cf2677e\"\n        ],\n        \"semantic_type\": \"\",\n        \"description\": \"\"\n      }\n    },\n    {\n      \"column\": \"PRICE RANGE\",\n      \"properties\": {\n        \"dtype\": \"category\",\n        \"num_unique_values\": 4,\n        \"samples\": [\n          \"Medium\",\n          \"High\",\n          \"Low\"\n        ],\n        \"semantic_type\": \"\",\n        \"description\": \"\"\n      }\n    },\n    {\n      \"column\": \"PRICE($)\",\n      \"properties\": {\n        \"dtype\": \"number\",\n        \"std\": 49697.07143206249,\n        \"min\": 1000.0,\n        \"max\": 439000.0,\n        \"num_unique_values\": 258,\n        \"samples\": [\n          6000.0,\n          8900.0,\n          9900.0\n        ],\n        \"semantic_type\": \"\",\n        \"description\": \"\"\n      }\n    },\n    {\n      \"column\": \"AGE OF CAR\",\n      \"properties\": {\n        \"dtype\": \"number\",\n        \"std\": 7,\n        \"min\": 0,\n        \"max\": 31,\n        \"num_unique_values\": 32,\n        \"samples\": [\n          3,\n          29,\n          25\n        ],\n        \"semantic_type\": \"\",\n        \"description\": \"\"\n      }\n    },\n    {\n      \"column\": \"STOCK TYPE\",\n      \"properties\": {\n        \"dtype\": \"category\",\n        \"num_unique_values\": 1,\n        \"samples\": [\n          \"Used\"\n        ],\n        \"semantic_type\": \"\",\n        \"description\": \"\"\n      }\n    },\n    {\n      \"column\": \"MILEAGE\",\n      \"properties\": {\n        \"dtype\": \"number\",\n        \"std\": 61867.00272087385,\n        \"min\": 115.0,\n        \"max\": 314000.0,\n        \"num_unique_values\": 382,\n        \"samples\": [\n          111000.0\n        ],\n        \"semantic_type\": \"\",\n        \"description\": \"\"\n      }\n    },\n    {\n      \"column\": \"RATING\",\n      \"properties\": {\n        \"dtype\": \"number\",\n        \"std\": 1.7074059505136145,\n        \"min\": -1.0,\n        \"max\": 5.0,\n        \"num_unique_values\": 207,\n        \"samples\": [\n          4.342857142857143\n        ],\n        \"semantic_type\": \"\",\n        \"description\": \"\"\n      }\n    },\n    {\n      \"column\": \"REVIEW\",\n      \"properties\": {\n        \"dtype\": \"number\",\n        \"std\": 526.8465860023532,\n        \"min\": -1.0,\n        \"max\": 5388.0,\n        \"num_unique_values\": 262,\n        \"samples\": [\n          415.7714285714285\n        ],\n        \"semantic_type\": \"\",\n        \"description\": \"\"\n      }\n    },\n    {\n      \"column\": \"DEALER NAME\",\n      \"properties\": {\n        \"dtype\": \"category\",\n        \"num_unique_values\": 1,\n        \"samples\": [\n          \"Motorcars International of Springfield Missouri\"\n        ],\n        \"semantic_type\": \"\",\n        \"description\": \"\"\n      }\n    },\n    {\n      \"column\": \"DEALER LOCATION (CITY)\",\n      \"properties\": {\n        \"dtype\": \"string\",\n        \"num_unique_values\": 368,\n        \"samples\": [\n          \"Eugene\"\n        ],\n        \"semantic_type\": \"\",\n        \"description\": \"\"\n      }\n    },\n    {\n      \"column\": \"DEALER LOCATION (STATE)\",\n      \"properties\": {\n        \"dtype\": \"category\",\n        \"num_unique_values\": 51,\n        \"samples\": [\n          \"Alaska\"\n        ],\n        \"semantic_type\": \"\",\n        \"description\": \"\"\n      }\n    }\n  ]\n}"
            }
          },
          "metadata": {},
          "execution_count": 5
        }
      ]
    },
    {
      "cell_type": "markdown",
      "source": [
        "Saw that `DEALER NAME\t` was NaN (i dont think this is a problem)   \n",
        "So display data with filter on not showing `dropped_data[\"DEALER NAME\"].notna()`"
      ],
      "metadata": {
        "id": "0_V2cQx9wyoF"
      }
    },
    {
      "cell_type": "code",
      "source": [
        "missing_data[missing_data[\"DEALER LOCATION (STATE)\"].notna() & missing_data[\"DEALER NAME\"].notna()]"
      ],
      "metadata": {
        "colab": {
          "base_uri": "https://localhost:8080/"
        },
        "id": "JQqPOJyetNmC",
        "outputId": "4a6ddbb5-68fa-40fb-e1c8-b056481cf655"
      },
      "execution_count": null,
      "outputs": [
        {
          "output_type": "execute_result",
          "data": {
            "text/plain": [
              "              CAR ID            PARENT COMPANY MAKE ORIGIN  BRAND MODEL/CLASS  \\\n",
              "234322  LUXUARY17165  Toyota Motor Corporation       Japan  Lexus      LX 570   \n",
              "\n",
              "                      CAR NAME  MODEL CAR TYPE  \\\n",
              "234322  Lexus LX 570 Three-Row   2021      SUV   \n",
              "\n",
              "                                                    IMAGE PRICE RANGE  \\\n",
              "234322  https://www.cars.com/i/large/in/v2/a79430ef-2e...         NaN   \n",
              "\n",
              "        PRICE($)  AGE OF CAR STOCK TYPE  MILEAGE  RATING  REVIEW  \\\n",
              "234322   76900.0           3       Used  37501.0    -1.0     2.0   \n",
              "\n",
              "                                            DEALER NAME  \\\n",
              "234322  Motorcars International of Springfield Missouri   \n",
              "\n",
              "       DEALER LOCATION (CITY) DEALER LOCATION (STATE)  \n",
              "234322            Springfield                Missouri  "
            ],
            "text/html": [
              "\n",
              "  <div id=\"df-fd1e975b-b1f9-41f9-b01e-828895f23f33\" class=\"colab-df-container\">\n",
              "    <div>\n",
              "<style scoped>\n",
              "    .dataframe tbody tr th:only-of-type {\n",
              "        vertical-align: middle;\n",
              "    }\n",
              "\n",
              "    .dataframe tbody tr th {\n",
              "        vertical-align: top;\n",
              "    }\n",
              "\n",
              "    .dataframe thead th {\n",
              "        text-align: right;\n",
              "    }\n",
              "</style>\n",
              "<table border=\"1\" class=\"dataframe\">\n",
              "  <thead>\n",
              "    <tr style=\"text-align: right;\">\n",
              "      <th></th>\n",
              "      <th>CAR ID</th>\n",
              "      <th>PARENT COMPANY</th>\n",
              "      <th>MAKE ORIGIN</th>\n",
              "      <th>BRAND</th>\n",
              "      <th>MODEL/CLASS</th>\n",
              "      <th>CAR NAME</th>\n",
              "      <th>MODEL</th>\n",
              "      <th>CAR TYPE</th>\n",
              "      <th>IMAGE</th>\n",
              "      <th>PRICE RANGE</th>\n",
              "      <th>PRICE($)</th>\n",
              "      <th>AGE OF CAR</th>\n",
              "      <th>STOCK TYPE</th>\n",
              "      <th>MILEAGE</th>\n",
              "      <th>RATING</th>\n",
              "      <th>REVIEW</th>\n",
              "      <th>DEALER NAME</th>\n",
              "      <th>DEALER LOCATION (CITY)</th>\n",
              "      <th>DEALER LOCATION (STATE)</th>\n",
              "    </tr>\n",
              "  </thead>\n",
              "  <tbody>\n",
              "    <tr>\n",
              "      <th>234322</th>\n",
              "      <td>LUXUARY17165</td>\n",
              "      <td>Toyota Motor Corporation</td>\n",
              "      <td>Japan</td>\n",
              "      <td>Lexus</td>\n",
              "      <td>LX 570</td>\n",
              "      <td>Lexus LX 570 Three-Row</td>\n",
              "      <td>2021</td>\n",
              "      <td>SUV</td>\n",
              "      <td>https://www.cars.com/i/large/in/v2/a79430ef-2e...</td>\n",
              "      <td>NaN</td>\n",
              "      <td>76900.0</td>\n",
              "      <td>3</td>\n",
              "      <td>Used</td>\n",
              "      <td>37501.0</td>\n",
              "      <td>-1.0</td>\n",
              "      <td>2.0</td>\n",
              "      <td>Motorcars International of Springfield Missouri</td>\n",
              "      <td>Springfield</td>\n",
              "      <td>Missouri</td>\n",
              "    </tr>\n",
              "  </tbody>\n",
              "</table>\n",
              "</div>\n",
              "    <div class=\"colab-df-buttons\">\n",
              "\n",
              "  <div class=\"colab-df-container\">\n",
              "    <button class=\"colab-df-convert\" onclick=\"convertToInteractive('df-fd1e975b-b1f9-41f9-b01e-828895f23f33')\"\n",
              "            title=\"Convert this dataframe to an interactive table.\"\n",
              "            style=\"display:none;\">\n",
              "\n",
              "  <svg xmlns=\"http://www.w3.org/2000/svg\" height=\"24px\" viewBox=\"0 -960 960 960\">\n",
              "    <path d=\"M120-120v-720h720v720H120Zm60-500h600v-160H180v160Zm220 220h160v-160H400v160Zm0 220h160v-160H400v160ZM180-400h160v-160H180v160Zm440 0h160v-160H620v160ZM180-180h160v-160H180v160Zm440 0h160v-160H620v160Z\"/>\n",
              "  </svg>\n",
              "    </button>\n",
              "\n",
              "  <style>\n",
              "    .colab-df-container {\n",
              "      display:flex;\n",
              "      gap: 12px;\n",
              "    }\n",
              "\n",
              "    .colab-df-convert {\n",
              "      background-color: #E8F0FE;\n",
              "      border: none;\n",
              "      border-radius: 50%;\n",
              "      cursor: pointer;\n",
              "      display: none;\n",
              "      fill: #1967D2;\n",
              "      height: 32px;\n",
              "      padding: 0 0 0 0;\n",
              "      width: 32px;\n",
              "    }\n",
              "\n",
              "    .colab-df-convert:hover {\n",
              "      background-color: #E2EBFA;\n",
              "      box-shadow: 0px 1px 2px rgba(60, 64, 67, 0.3), 0px 1px 3px 1px rgba(60, 64, 67, 0.15);\n",
              "      fill: #174EA6;\n",
              "    }\n",
              "\n",
              "    .colab-df-buttons div {\n",
              "      margin-bottom: 4px;\n",
              "    }\n",
              "\n",
              "    [theme=dark] .colab-df-convert {\n",
              "      background-color: #3B4455;\n",
              "      fill: #D2E3FC;\n",
              "    }\n",
              "\n",
              "    [theme=dark] .colab-df-convert:hover {\n",
              "      background-color: #434B5C;\n",
              "      box-shadow: 0px 1px 3px 1px rgba(0, 0, 0, 0.15);\n",
              "      filter: drop-shadow(0px 1px 2px rgba(0, 0, 0, 0.3));\n",
              "      fill: #FFFFFF;\n",
              "    }\n",
              "  </style>\n",
              "\n",
              "    <script>\n",
              "      const buttonEl =\n",
              "        document.querySelector('#df-fd1e975b-b1f9-41f9-b01e-828895f23f33 button.colab-df-convert');\n",
              "      buttonEl.style.display =\n",
              "        google.colab.kernel.accessAllowed ? 'block' : 'none';\n",
              "\n",
              "      async function convertToInteractive(key) {\n",
              "        const element = document.querySelector('#df-fd1e975b-b1f9-41f9-b01e-828895f23f33');\n",
              "        const dataTable =\n",
              "          await google.colab.kernel.invokeFunction('convertToInteractive',\n",
              "                                                    [key], {});\n",
              "        if (!dataTable) return;\n",
              "\n",
              "        const docLinkHtml = 'Like what you see? Visit the ' +\n",
              "          '<a target=\"_blank\" href=https://colab.research.google.com/notebooks/data_table.ipynb>data table notebook</a>'\n",
              "          + ' to learn more about interactive tables.';\n",
              "        element.innerHTML = '';\n",
              "        dataTable['output_type'] = 'display_data';\n",
              "        await google.colab.output.renderOutput(dataTable, element);\n",
              "        const docLink = document.createElement('div');\n",
              "        docLink.innerHTML = docLinkHtml;\n",
              "        element.appendChild(docLink);\n",
              "      }\n",
              "    </script>\n",
              "  </div>\n",
              "\n",
              "\n",
              "    </div>\n",
              "  </div>\n"
            ],
            "application/vnd.google.colaboratory.intrinsic+json": {
              "type": "dataframe",
              "repr_error": "0"
            }
          },
          "metadata": {},
          "execution_count": 6
        }
      ]
    },
    {
      "cell_type": "markdown",
      "source": [
        "This showed that one row has a missing value on `PRICE RANGE` (this i think have to be removed)"
      ],
      "metadata": {
        "id": "q4jlYBWvxJS_"
      }
    },
    {
      "cell_type": "markdown",
      "source": [
        "## 2. Remove missing rows"
      ],
      "metadata": {
        "id": "8uZ0PjsezELf"
      }
    },
    {
      "cell_type": "markdown",
      "source": [
        "Removes row with missing value on PRICE RANGE"
      ],
      "metadata": {
        "id": "VWXRqJaN0eXU"
      }
    },
    {
      "cell_type": "code",
      "source": [
        "print(len(cars_data))\n",
        "\n",
        "cars_data.drop(cars_data[cars_data[\"PRICE RANGE\"].isna()].index, inplace=True)\n",
        "\n",
        "print(len(cars_data))"
      ],
      "metadata": {
        "id": "ULqM83GLqRIY",
        "colab": {
          "base_uri": "https://localhost:8080/"
        },
        "outputId": "dfa5e59b-d196-409f-a9b6-846b42729007"
      },
      "execution_count": null,
      "outputs": [
        {
          "output_type": "stream",
          "name": "stdout",
          "text": [
            "266847\n",
            "266846\n"
          ]
        }
      ]
    },
    {
      "cell_type": "markdown",
      "source": [
        "## 3. Remove columns\n"
      ],
      "metadata": {
        "id": "ehMZuQsO1zP8"
      }
    },
    {
      "cell_type": "code",
      "source": [
        "cars_data.head(1)"
      ],
      "metadata": {
        "colab": {
          "base_uri": "https://localhost:8080/"
        },
        "id": "Wqhyykec2BCH",
        "outputId": "cb41e325-4fde-4b74-c546-46ed7554129c"
      },
      "execution_count": null,
      "outputs": [
        {
          "output_type": "execute_result",
          "data": {
            "text/plain": [
              "       CAR ID  PARENT COMPANY MAKE ORIGIN      BRAND  MODEL/CLASS  \\\n",
              "0  crossover1  General Motors         USA  Chevrolet  Traverse LT   \n",
              "\n",
              "                CAR NAME  MODEL   CAR TYPE  \\\n",
              "0  Chevrolet Traverse LT   2024  crossover   \n",
              "\n",
              "                                               IMAGE PRICE RANGE  PRICE($)  \\\n",
              "0  https://www.cars.com/i/large/in/v2/fe8df1b1-43...        High   41170.0   \n",
              "\n",
              "   AGE OF CAR STOCK TYPE  MILEAGE  RATING  REVIEW  \\\n",
              "0           0        New      0.0     4.0   992.0   \n",
              "\n",
              "                             DEALER NAME DEALER LOCATION (CITY)  \\\n",
              "0  Napleton Downtown Chevrolet Buick GMC                Chicago   \n",
              "\n",
              "  DEALER LOCATION (STATE)  \n",
              "0                Illinois  "
            ],
            "text/html": [
              "\n",
              "  <div id=\"df-038aaf44-b537-4823-80fa-3987199503b0\" class=\"colab-df-container\">\n",
              "    <div>\n",
              "<style scoped>\n",
              "    .dataframe tbody tr th:only-of-type {\n",
              "        vertical-align: middle;\n",
              "    }\n",
              "\n",
              "    .dataframe tbody tr th {\n",
              "        vertical-align: top;\n",
              "    }\n",
              "\n",
              "    .dataframe thead th {\n",
              "        text-align: right;\n",
              "    }\n",
              "</style>\n",
              "<table border=\"1\" class=\"dataframe\">\n",
              "  <thead>\n",
              "    <tr style=\"text-align: right;\">\n",
              "      <th></th>\n",
              "      <th>CAR ID</th>\n",
              "      <th>PARENT COMPANY</th>\n",
              "      <th>MAKE ORIGIN</th>\n",
              "      <th>BRAND</th>\n",
              "      <th>MODEL/CLASS</th>\n",
              "      <th>CAR NAME</th>\n",
              "      <th>MODEL</th>\n",
              "      <th>CAR TYPE</th>\n",
              "      <th>IMAGE</th>\n",
              "      <th>PRICE RANGE</th>\n",
              "      <th>PRICE($)</th>\n",
              "      <th>AGE OF CAR</th>\n",
              "      <th>STOCK TYPE</th>\n",
              "      <th>MILEAGE</th>\n",
              "      <th>RATING</th>\n",
              "      <th>REVIEW</th>\n",
              "      <th>DEALER NAME</th>\n",
              "      <th>DEALER LOCATION (CITY)</th>\n",
              "      <th>DEALER LOCATION (STATE)</th>\n",
              "    </tr>\n",
              "  </thead>\n",
              "  <tbody>\n",
              "    <tr>\n",
              "      <th>0</th>\n",
              "      <td>crossover1</td>\n",
              "      <td>General Motors</td>\n",
              "      <td>USA</td>\n",
              "      <td>Chevrolet</td>\n",
              "      <td>Traverse LT</td>\n",
              "      <td>Chevrolet Traverse LT</td>\n",
              "      <td>2024</td>\n",
              "      <td>crossover</td>\n",
              "      <td>https://www.cars.com/i/large/in/v2/fe8df1b1-43...</td>\n",
              "      <td>High</td>\n",
              "      <td>41170.0</td>\n",
              "      <td>0</td>\n",
              "      <td>New</td>\n",
              "      <td>0.0</td>\n",
              "      <td>4.0</td>\n",
              "      <td>992.0</td>\n",
              "      <td>Napleton Downtown Chevrolet Buick GMC</td>\n",
              "      <td>Chicago</td>\n",
              "      <td>Illinois</td>\n",
              "    </tr>\n",
              "  </tbody>\n",
              "</table>\n",
              "</div>\n",
              "    <div class=\"colab-df-buttons\">\n",
              "\n",
              "  <div class=\"colab-df-container\">\n",
              "    <button class=\"colab-df-convert\" onclick=\"convertToInteractive('df-038aaf44-b537-4823-80fa-3987199503b0')\"\n",
              "            title=\"Convert this dataframe to an interactive table.\"\n",
              "            style=\"display:none;\">\n",
              "\n",
              "  <svg xmlns=\"http://www.w3.org/2000/svg\" height=\"24px\" viewBox=\"0 -960 960 960\">\n",
              "    <path d=\"M120-120v-720h720v720H120Zm60-500h600v-160H180v160Zm220 220h160v-160H400v160Zm0 220h160v-160H400v160ZM180-400h160v-160H180v160Zm440 0h160v-160H620v160ZM180-180h160v-160H180v160Zm440 0h160v-160H620v160Z\"/>\n",
              "  </svg>\n",
              "    </button>\n",
              "\n",
              "  <style>\n",
              "    .colab-df-container {\n",
              "      display:flex;\n",
              "      gap: 12px;\n",
              "    }\n",
              "\n",
              "    .colab-df-convert {\n",
              "      background-color: #E8F0FE;\n",
              "      border: none;\n",
              "      border-radius: 50%;\n",
              "      cursor: pointer;\n",
              "      display: none;\n",
              "      fill: #1967D2;\n",
              "      height: 32px;\n",
              "      padding: 0 0 0 0;\n",
              "      width: 32px;\n",
              "    }\n",
              "\n",
              "    .colab-df-convert:hover {\n",
              "      background-color: #E2EBFA;\n",
              "      box-shadow: 0px 1px 2px rgba(60, 64, 67, 0.3), 0px 1px 3px 1px rgba(60, 64, 67, 0.15);\n",
              "      fill: #174EA6;\n",
              "    }\n",
              "\n",
              "    .colab-df-buttons div {\n",
              "      margin-bottom: 4px;\n",
              "    }\n",
              "\n",
              "    [theme=dark] .colab-df-convert {\n",
              "      background-color: #3B4455;\n",
              "      fill: #D2E3FC;\n",
              "    }\n",
              "\n",
              "    [theme=dark] .colab-df-convert:hover {\n",
              "      background-color: #434B5C;\n",
              "      box-shadow: 0px 1px 3px 1px rgba(0, 0, 0, 0.15);\n",
              "      filter: drop-shadow(0px 1px 2px rgba(0, 0, 0, 0.3));\n",
              "      fill: #FFFFFF;\n",
              "    }\n",
              "  </style>\n",
              "\n",
              "    <script>\n",
              "      const buttonEl =\n",
              "        document.querySelector('#df-038aaf44-b537-4823-80fa-3987199503b0 button.colab-df-convert');\n",
              "      buttonEl.style.display =\n",
              "        google.colab.kernel.accessAllowed ? 'block' : 'none';\n",
              "\n",
              "      async function convertToInteractive(key) {\n",
              "        const element = document.querySelector('#df-038aaf44-b537-4823-80fa-3987199503b0');\n",
              "        const dataTable =\n",
              "          await google.colab.kernel.invokeFunction('convertToInteractive',\n",
              "                                                    [key], {});\n",
              "        if (!dataTable) return;\n",
              "\n",
              "        const docLinkHtml = 'Like what you see? Visit the ' +\n",
              "          '<a target=\"_blank\" href=https://colab.research.google.com/notebooks/data_table.ipynb>data table notebook</a>'\n",
              "          + ' to learn more about interactive tables.';\n",
              "        element.innerHTML = '';\n",
              "        dataTable['output_type'] = 'display_data';\n",
              "        await google.colab.output.renderOutput(dataTable, element);\n",
              "        const docLink = document.createElement('div');\n",
              "        docLink.innerHTML = docLinkHtml;\n",
              "        element.appendChild(docLink);\n",
              "      }\n",
              "    </script>\n",
              "  </div>\n",
              "\n",
              "\n",
              "    </div>\n",
              "  </div>\n"
            ],
            "application/vnd.google.colaboratory.intrinsic+json": {
              "type": "dataframe",
              "variable_name": "cars_data"
            }
          },
          "metadata": {},
          "execution_count": 8
        }
      ]
    },
    {
      "cell_type": "code",
      "source": [
        "col_to_drop = [\n",
        "    \"CAR ID\",\n",
        "    \"PARENT COMPANY\",\n",
        "    \"MAKE ORIGIN\",\n",
        "    \"BRAND\",\n",
        "    \"MODEL/CLASS\",\n",
        "    \"CAR NAME\",\n",
        "    \"IMAGE\",\n",
        "    \"STOCK TYPE\",\n",
        "    \"DEALER NAME\",\n",
        "    \"DEALER LOCATION (CITY)\",\n",
        "    \"DEALER LOCATION (STATE)\",\n",
        "    \"REVIEW\",\n",
        "    \"AGE OF CAR\"\n",
        "    ]\n",
        "\n",
        "cars_test = cars_data.drop(col_to_drop, axis=1)"
      ],
      "metadata": {
        "id": "LZ6fidKN13Fp"
      },
      "execution_count": null,
      "outputs": []
    },
    {
      "cell_type": "code",
      "source": [
        "cars_test.info()"
      ],
      "metadata": {
        "colab": {
          "base_uri": "https://localhost:8080/"
        },
        "id": "ums2aOHo5Dsq",
        "outputId": "edf9b10f-dcf2-4121-ee0d-b71713a1a485"
      },
      "execution_count": null,
      "outputs": [
        {
          "output_type": "stream",
          "name": "stdout",
          "text": [
            "<class 'pandas.core.frame.DataFrame'>\n",
            "Index: 266846 entries, 0 to 266846\n",
            "Data columns (total 6 columns):\n",
            " #   Column       Non-Null Count   Dtype  \n",
            "---  ------       --------------   -----  \n",
            " 0   MODEL        266846 non-null  int64  \n",
            " 1   CAR TYPE     266846 non-null  object \n",
            " 2   PRICE RANGE  266846 non-null  object \n",
            " 3   PRICE($)     266846 non-null  float64\n",
            " 4   MILEAGE      266845 non-null  float64\n",
            " 5   RATING       266846 non-null  float64\n",
            "dtypes: float64(3), int64(1), object(2)\n",
            "memory usage: 14.3+ MB\n"
          ]
        }
      ]
    },
    {
      "cell_type": "markdown",
      "source": [
        "## 4. Noticed error"
      ],
      "metadata": {
        "id": "EY-hHXL2KHBd"
      }
    },
    {
      "cell_type": "markdown",
      "source": [
        "This is added after. i noticed that i hadent cleand the data corret and there were a nan value for \"MILAGE\""
      ],
      "metadata": {
        "id": "INZ4W0kUKJou"
      }
    },
    {
      "cell_type": "code",
      "source": [
        "cars_test[cars_test.isna().any(axis=1)]"
      ],
      "metadata": {
        "colab": {
          "base_uri": "https://localhost:8080/"
        },
        "id": "Z-RJjF3sKJJE",
        "outputId": "e22ba900-258e-48f5-9c91-127149ab6905"
      },
      "execution_count": null,
      "outputs": [
        {
          "output_type": "execute_result",
          "data": {
            "text/plain": [
              "        MODEL       CAR TYPE PRICE RANGE  PRICE($)  MILEAGE    RATING\n",
              "191544   2018  pickup-trucks         Low   34927.0      NaN  4.333432"
            ],
            "text/html": [
              "\n",
              "  <div id=\"df-d3157934-8ba9-4b9f-a234-036e00a34fcf\" class=\"colab-df-container\">\n",
              "    <div>\n",
              "<style scoped>\n",
              "    .dataframe tbody tr th:only-of-type {\n",
              "        vertical-align: middle;\n",
              "    }\n",
              "\n",
              "    .dataframe tbody tr th {\n",
              "        vertical-align: top;\n",
              "    }\n",
              "\n",
              "    .dataframe thead th {\n",
              "        text-align: right;\n",
              "    }\n",
              "</style>\n",
              "<table border=\"1\" class=\"dataframe\">\n",
              "  <thead>\n",
              "    <tr style=\"text-align: right;\">\n",
              "      <th></th>\n",
              "      <th>MODEL</th>\n",
              "      <th>CAR TYPE</th>\n",
              "      <th>PRICE RANGE</th>\n",
              "      <th>PRICE($)</th>\n",
              "      <th>MILEAGE</th>\n",
              "      <th>RATING</th>\n",
              "    </tr>\n",
              "  </thead>\n",
              "  <tbody>\n",
              "    <tr>\n",
              "      <th>191544</th>\n",
              "      <td>2018</td>\n",
              "      <td>pickup-trucks</td>\n",
              "      <td>Low</td>\n",
              "      <td>34927.0</td>\n",
              "      <td>NaN</td>\n",
              "      <td>4.333432</td>\n",
              "    </tr>\n",
              "  </tbody>\n",
              "</table>\n",
              "</div>\n",
              "    <div class=\"colab-df-buttons\">\n",
              "\n",
              "  <div class=\"colab-df-container\">\n",
              "    <button class=\"colab-df-convert\" onclick=\"convertToInteractive('df-d3157934-8ba9-4b9f-a234-036e00a34fcf')\"\n",
              "            title=\"Convert this dataframe to an interactive table.\"\n",
              "            style=\"display:none;\">\n",
              "\n",
              "  <svg xmlns=\"http://www.w3.org/2000/svg\" height=\"24px\" viewBox=\"0 -960 960 960\">\n",
              "    <path d=\"M120-120v-720h720v720H120Zm60-500h600v-160H180v160Zm220 220h160v-160H400v160Zm0 220h160v-160H400v160ZM180-400h160v-160H180v160Zm440 0h160v-160H620v160ZM180-180h160v-160H180v160Zm440 0h160v-160H620v160Z\"/>\n",
              "  </svg>\n",
              "    </button>\n",
              "\n",
              "  <style>\n",
              "    .colab-df-container {\n",
              "      display:flex;\n",
              "      gap: 12px;\n",
              "    }\n",
              "\n",
              "    .colab-df-convert {\n",
              "      background-color: #E8F0FE;\n",
              "      border: none;\n",
              "      border-radius: 50%;\n",
              "      cursor: pointer;\n",
              "      display: none;\n",
              "      fill: #1967D2;\n",
              "      height: 32px;\n",
              "      padding: 0 0 0 0;\n",
              "      width: 32px;\n",
              "    }\n",
              "\n",
              "    .colab-df-convert:hover {\n",
              "      background-color: #E2EBFA;\n",
              "      box-shadow: 0px 1px 2px rgba(60, 64, 67, 0.3), 0px 1px 3px 1px rgba(60, 64, 67, 0.15);\n",
              "      fill: #174EA6;\n",
              "    }\n",
              "\n",
              "    .colab-df-buttons div {\n",
              "      margin-bottom: 4px;\n",
              "    }\n",
              "\n",
              "    [theme=dark] .colab-df-convert {\n",
              "      background-color: #3B4455;\n",
              "      fill: #D2E3FC;\n",
              "    }\n",
              "\n",
              "    [theme=dark] .colab-df-convert:hover {\n",
              "      background-color: #434B5C;\n",
              "      box-shadow: 0px 1px 3px 1px rgba(0, 0, 0, 0.15);\n",
              "      filter: drop-shadow(0px 1px 2px rgba(0, 0, 0, 0.3));\n",
              "      fill: #FFFFFF;\n",
              "    }\n",
              "  </style>\n",
              "\n",
              "    <script>\n",
              "      const buttonEl =\n",
              "        document.querySelector('#df-d3157934-8ba9-4b9f-a234-036e00a34fcf button.colab-df-convert');\n",
              "      buttonEl.style.display =\n",
              "        google.colab.kernel.accessAllowed ? 'block' : 'none';\n",
              "\n",
              "      async function convertToInteractive(key) {\n",
              "        const element = document.querySelector('#df-d3157934-8ba9-4b9f-a234-036e00a34fcf');\n",
              "        const dataTable =\n",
              "          await google.colab.kernel.invokeFunction('convertToInteractive',\n",
              "                                                    [key], {});\n",
              "        if (!dataTable) return;\n",
              "\n",
              "        const docLinkHtml = 'Like what you see? Visit the ' +\n",
              "          '<a target=\"_blank\" href=https://colab.research.google.com/notebooks/data_table.ipynb>data table notebook</a>'\n",
              "          + ' to learn more about interactive tables.';\n",
              "        element.innerHTML = '';\n",
              "        dataTable['output_type'] = 'display_data';\n",
              "        await google.colab.output.renderOutput(dataTable, element);\n",
              "        const docLink = document.createElement('div');\n",
              "        docLink.innerHTML = docLinkHtml;\n",
              "        element.appendChild(docLink);\n",
              "      }\n",
              "    </script>\n",
              "  </div>\n",
              "\n",
              "\n",
              "    </div>\n",
              "  </div>\n"
            ],
            "application/vnd.google.colaboratory.intrinsic+json": {
              "type": "dataframe",
              "summary": "{\n  \"name\": \"cars_test[cars_test\",\n  \"rows\": 1,\n  \"fields\": [\n    {\n      \"column\": \"MODEL\",\n      \"properties\": {\n        \"dtype\": \"number\",\n        \"std\": null,\n        \"min\": 2018,\n        \"max\": 2018,\n        \"num_unique_values\": 1,\n        \"samples\": [\n          2018\n        ],\n        \"semantic_type\": \"\",\n        \"description\": \"\"\n      }\n    },\n    {\n      \"column\": \"CAR TYPE\",\n      \"properties\": {\n        \"dtype\": \"string\",\n        \"num_unique_values\": 1,\n        \"samples\": [\n          \"pickup-trucks\"\n        ],\n        \"semantic_type\": \"\",\n        \"description\": \"\"\n      }\n    },\n    {\n      \"column\": \"PRICE RANGE\",\n      \"properties\": {\n        \"dtype\": \"string\",\n        \"num_unique_values\": 1,\n        \"samples\": [\n          \"Low\"\n        ],\n        \"semantic_type\": \"\",\n        \"description\": \"\"\n      }\n    },\n    {\n      \"column\": \"PRICE($)\",\n      \"properties\": {\n        \"dtype\": \"number\",\n        \"std\": null,\n        \"min\": 34927.0,\n        \"max\": 34927.0,\n        \"num_unique_values\": 1,\n        \"samples\": [\n          34927.0\n        ],\n        \"semantic_type\": \"\",\n        \"description\": \"\"\n      }\n    },\n    {\n      \"column\": \"MILEAGE\",\n      \"properties\": {\n        \"dtype\": \"number\",\n        \"std\": null,\n        \"min\": null,\n        \"max\": null,\n        \"num_unique_values\": 0,\n        \"samples\": [],\n        \"semantic_type\": \"\",\n        \"description\": \"\"\n      }\n    },\n    {\n      \"column\": \"RATING\",\n      \"properties\": {\n        \"dtype\": \"number\",\n        \"std\": null,\n        \"min\": 4.333431952662722,\n        \"max\": 4.333431952662722,\n        \"num_unique_values\": 1,\n        \"samples\": [],\n        \"semantic_type\": \"\",\n        \"description\": \"\"\n      }\n    }\n  ]\n}"
            }
          },
          "metadata": {},
          "execution_count": 11
        }
      ]
    },
    {
      "cell_type": "markdown",
      "source": [
        "removes the row with nan value"
      ],
      "metadata": {
        "id": "4j-lTCooKWcA"
      }
    },
    {
      "cell_type": "code",
      "source": [
        "print(len(cars_test))\n",
        "\n",
        "cars_test.drop(cars_test[cars_test[\"MILEAGE\"].isna()].index, inplace=True)\n",
        "\n",
        "print(len(cars_test))"
      ],
      "metadata": {
        "colab": {
          "base_uri": "https://localhost:8080/"
        },
        "id": "38064yIhKS6u",
        "outputId": "d27ae5c3-40eb-41fb-f03d-a30393f2d920"
      },
      "execution_count": null,
      "outputs": [
        {
          "output_type": "stream",
          "name": "stdout",
          "text": [
            "266846\n",
            "266845\n"
          ]
        }
      ]
    },
    {
      "cell_type": "markdown",
      "source": [
        "## 5.Explore data"
      ],
      "metadata": {
        "id": "wwSUTncm6Bd5"
      }
    },
    {
      "cell_type": "markdown",
      "source": [
        "### 5.1. MODEL"
      ],
      "metadata": {
        "id": "dBbKPRCo6EaV"
      }
    },
    {
      "cell_type": "markdown",
      "source": [
        "I need to encode"
      ],
      "metadata": {
        "id": "Ah3lBQRQAJ9h"
      }
    },
    {
      "cell_type": "code",
      "source": [
        "cars_test[\"MODEL\"].unique()"
      ],
      "metadata": {
        "colab": {
          "base_uri": "https://localhost:8080/"
        },
        "id": "fb1fWWNF6A-t",
        "outputId": "e6b8227d-883a-4c58-b855-cc1c69a7b67a"
      },
      "execution_count": null,
      "outputs": [
        {
          "output_type": "execute_result",
          "data": {
            "text/plain": [
              "array([2024, 2015, 2016, 2020, 2018, 2023, 2021, 2019, 2011, 2022, 2009,\n",
              "       2013, 2017, 2014, 2012, 2010, 2005, 2007, 2001, 2006, 2008, 2004,\n",
              "       2002, 2003, 1998, 2025, 1997, 1958, 1995, 1992, 1932, 1999, 1953,\n",
              "       1994, 1966, 1993, 1990, 1996, 1988, 2000, 1964, 1991, 1954, 1974,\n",
              "       1989, 1975, 1970, 1957, 1967, 1987, 1973, 1978, 1965, 1976, 1962,\n",
              "       1959, 1971, 1983, 1979, 1984, 1982, 1940, 1956, 1955, 1963, 1961,\n",
              "       1980, 1977, 1981, 1972, 1937, 1969, 1930, 1931, 1948, 1947, 1968,\n",
              "       1951, 1928, 1952, 1960, 1919, 1950, 1926, 1929, 1985, 1934, 1986,\n",
              "       1936, 1941, 1933, 1938, 1946])"
            ]
          },
          "metadata": {},
          "execution_count": 13
        }
      ]
    },
    {
      "cell_type": "markdown",
      "source": [
        "### 5.2. CAR TYPE"
      ],
      "metadata": {
        "id": "ugduek_P6Ty3"
      }
    },
    {
      "cell_type": "markdown",
      "source": [
        "need to encode"
      ],
      "metadata": {
        "id": "saM3x1gLAN56"
      }
    },
    {
      "cell_type": "code",
      "source": [
        "cars_test[\"CAR TYPE\"].unique()"
      ],
      "metadata": {
        "colab": {
          "base_uri": "https://localhost:8080/"
        },
        "id": "D7bJUEzY6aRp",
        "outputId": "5751a80a-d33a-481e-9a11-370b408e8943"
      },
      "execution_count": null,
      "outputs": [
        {
          "output_type": "execute_result",
          "data": {
            "text/plain": [
              "array(['crossover', 'convertible', 'coupe', 'diesel van', 'diesel SUV',\n",
              "       'Diesel Truck', 'Electric Coupe', 'Electric SUV', 'Electric Truck',\n",
              "       'Electric Van', 'Electric Microcar', 'hatchback', 'Hybrid SUV',\n",
              "       'Hybrid Minivan', 'Hybrid Coupe', 'Hybrid Sedan', 'Hybrid Truck',\n",
              "       'Hybrid Wagon', 'Hybrid Hatchback', 'Hybrid Convertible',\n",
              "       'minivan', 'pickup-trucks', 'Sedan', 'SUV', 'Wagon', 'Diesel SUV',\n",
              "       'Luxury Sedan', 'Performance SUV', 'Coupe SUV'], dtype=object)"
            ]
          },
          "metadata": {},
          "execution_count": 14
        }
      ]
    },
    {
      "cell_type": "markdown",
      "source": [
        "### 5.3. PRICE($)"
      ],
      "metadata": {
        "id": "FAABjbR86gCA"
      }
    },
    {
      "cell_type": "code",
      "source": [
        "print(cars_test[\"PRICE($)\"].describe())"
      ],
      "metadata": {
        "colab": {
          "base_uri": "https://localhost:8080/"
        },
        "id": "Pyc83GAV6l_0",
        "outputId": "e029357a-82cc-4646-8b79-846a7f01ac26"
      },
      "execution_count": null,
      "outputs": [
        {
          "output_type": "stream",
          "name": "stdout",
          "text": [
            "count    2.668450e+05\n",
            "mean     4.634627e+04\n",
            "std      4.280710e+04\n",
            "min      1.000000e+03\n",
            "25%      2.711000e+04\n",
            "50%      3.998500e+04\n",
            "75%      5.664500e+04\n",
            "max      4.699999e+06\n",
            "Name: PRICE($), dtype: float64\n"
          ]
        }
      ]
    },
    {
      "cell_type": "markdown",
      "source": [
        "mean     4.634623e+04 - 46346.23\n",
        "\n",
        "std      4.280702e+04 - 42807.02\n",
        "\n",
        "min      1.000000e+03 - 1000.0\n",
        "\n",
        "max      4.699999e+06 - 4699999.0"
      ],
      "metadata": {
        "id": "yGhVSX_77bIv"
      }
    },
    {
      "cell_type": "markdown",
      "source": [
        "### 5.4. RATING\n",
        "\"RATING\" dependent on \"REVIEW\" mby do smt if \"REVEW\" is low"
      ],
      "metadata": {
        "id": "NmhV2Rzo-E2J"
      }
    },
    {
      "cell_type": "code",
      "source": [
        "print(cars_test[\"RATING\"].describe())"
      ],
      "metadata": {
        "colab": {
          "base_uri": "https://localhost:8080/"
        },
        "id": "S7flrKKj-Ieo",
        "outputId": "89e4276d-7ea4-48b5-e699-7a327a067643"
      },
      "execution_count": null,
      "outputs": [
        {
          "output_type": "stream",
          "name": "stdout",
          "text": [
            "count    266845.000000\n",
            "mean          3.335409\n",
            "std           2.165655\n",
            "min          -1.000000\n",
            "25%           3.254920\n",
            "50%           4.400000\n",
            "75%           4.700000\n",
            "max           5.000000\n",
            "Name: RATING, dtype: float64\n"
          ]
        }
      ]
    },
    {
      "cell_type": "code",
      "source": [
        "print(\"nof faulty row \\\"RATING\\\" rows: \", len(cars_test[cars_test[\"RATING\"] == -1]))"
      ],
      "metadata": {
        "colab": {
          "base_uri": "https://localhost:8080/"
        },
        "id": "JQjSrG2k_YdA",
        "outputId": "19fc921e-1cc2-4866-d119-d96429325fe3"
      },
      "execution_count": null,
      "outputs": [
        {
          "output_type": "stream",
          "name": "stdout",
          "text": [
            "nof faulty row \"RATING\" rows:  50288\n"
          ]
        }
      ]
    },
    {
      "cell_type": "markdown",
      "source": [
        "need to remove faulty data"
      ],
      "metadata": {
        "id": "CeGx0XgSAWrz"
      }
    },
    {
      "cell_type": "markdown",
      "source": [
        "### 5.5. Duplicate rows"
      ],
      "metadata": {
        "id": "iCVSJ8UaMygC"
      }
    },
    {
      "cell_type": "markdown",
      "source": [
        "Check if there are any duplicate rows"
      ],
      "metadata": {
        "id": "Zh_ukrjWOg1G"
      }
    },
    {
      "cell_type": "code",
      "source": [
        "cars_test.duplicated(keep='first').any()"
      ],
      "metadata": {
        "colab": {
          "base_uri": "https://localhost:8080/"
        },
        "id": "ULZ8lJaROm5z",
        "outputId": "4b855281-72b8-4792-9d87-da8ae608b460"
      },
      "execution_count": null,
      "outputs": [
        {
          "output_type": "execute_result",
          "data": {
            "text/plain": [
              "True"
            ]
          },
          "metadata": {},
          "execution_count": 18
        }
      ]
    },
    {
      "cell_type": "markdown",
      "source": [
        "Check how many duplicate rows there are"
      ],
      "metadata": {
        "id": "q8pxmQ1NOo6G"
      }
    },
    {
      "cell_type": "code",
      "source": [
        "cars_test.duplicated(keep='first').sum()"
      ],
      "metadata": {
        "colab": {
          "base_uri": "https://localhost:8080/"
        },
        "collapsed": true,
        "id": "b0HHHhJlN07C",
        "outputId": "22a2f377-a431-4866-9d29-e251f2819ab9"
      },
      "execution_count": null,
      "outputs": [
        {
          "output_type": "execute_result",
          "data": {
            "text/plain": [
              "38121"
            ]
          },
          "metadata": {},
          "execution_count": 19
        }
      ]
    },
    {
      "cell_type": "markdown",
      "source": [
        "## 6. Remove row with faulty data"
      ],
      "metadata": {
        "id": "Zyq4Dn_HAZPk"
      }
    },
    {
      "cell_type": "markdown",
      "source": [
        "### 6.1. \"RATING\" has -1"
      ],
      "metadata": {
        "id": "UGU59wl1O3Hp"
      }
    },
    {
      "cell_type": "markdown",
      "source": [
        "aka remove faulty values in prev seen cols: \"RATING\"."
      ],
      "metadata": {
        "id": "XtTEJbb8KgDT"
      }
    },
    {
      "cell_type": "code",
      "source": [
        "print(\"nof faulty row \\\"RATING\\\" rows: \",\n",
        "      len(cars_test[cars_test[\"RATING\"] == -1]))"
      ],
      "metadata": {
        "colab": {
          "base_uri": "https://localhost:8080/"
        },
        "id": "Sv3b8Ac8Ab98",
        "outputId": "e3eabc97-9a11-477f-925d-6dbb31f3731c"
      },
      "execution_count": null,
      "outputs": [
        {
          "output_type": "stream",
          "name": "stdout",
          "text": [
            "nof faulty row \"RATING\" rows:  50288\n"
          ]
        }
      ]
    },
    {
      "cell_type": "code",
      "source": [
        "cars_test.drop(axis=0, index=cars_test.query('RATING == -1').index, inplace=True)\n",
        "\n",
        "print(\"nof faulty row \\\"RATING\\\" rows: \",\n",
        "      len(cars_test[cars_test[\"RATING\"] == -1]))"
      ],
      "metadata": {
        "colab": {
          "base_uri": "https://localhost:8080/"
        },
        "id": "T9Mw61DBBE6E",
        "outputId": "401e53ac-76c5-4507-d242-03fdb4b26fc3"
      },
      "execution_count": null,
      "outputs": [
        {
          "output_type": "stream",
          "name": "stdout",
          "text": [
            "nof faulty row \"RATING\" rows:  0\n"
          ]
        }
      ]
    },
    {
      "cell_type": "markdown",
      "source": [
        "### 6.2. Remove duplicates"
      ],
      "metadata": {
        "id": "H4Sn6dD5O_Ns"
      }
    },
    {
      "cell_type": "code",
      "source": [
        "cars_test.drop_duplicates(keep='first', inplace=True)\n",
        "\n",
        "cars_test.duplicated(keep='first').sum()"
      ],
      "metadata": {
        "colab": {
          "base_uri": "https://localhost:8080/"
        },
        "id": "TObAC8_nPLnS",
        "outputId": "380dd407-589d-4991-b5be-2069a06c1618"
      },
      "execution_count": null,
      "outputs": [
        {
          "output_type": "execute_result",
          "data": {
            "text/plain": [
              "0"
            ]
          },
          "metadata": {},
          "execution_count": 22
        }
      ]
    },
    {
      "cell_type": "markdown",
      "source": [
        "## 7. Encode data"
      ],
      "metadata": {
        "id": "vhQ_7Y7VX8iX"
      }
    },
    {
      "cell_type": "markdown",
      "source": [
        "### 7.1. \"MODEL\"\n",
        "ordinal data there for lableEncoding   \n",
        "behövs det????"
      ],
      "metadata": {
        "id": "mBqWwd07YB3L"
      }
    },
    {
      "cell_type": "code",
      "source": [
        "encoderModel = LabelEncoder()\n",
        "cars_test[\"MODEL\"] = encoderModel.fit_transform(cars_test[\"MODEL\"])"
      ],
      "metadata": {
        "id": "81IpiomjYAdA"
      },
      "execution_count": null,
      "outputs": []
    },
    {
      "cell_type": "markdown",
      "source": [
        "### 7.2. \"CAR TYPE\"\n",
        "catigorical data w/ no appearant order, there for one-hot-encoding"
      ],
      "metadata": {
        "id": "dI1EAWd6YmIQ"
      }
    },
    {
      "cell_type": "code",
      "source": [
        "df = cars_test\n",
        "\n",
        "# Reset indexes to avoid complication when concat dataframes after encoding\n",
        "df.reset_index(inplace=True)\n",
        "\n",
        "encoder = OneHotEncoder(sparse_output=False)\n",
        "encoded_data = encoder.fit_transform(df[[\"CAR TYPE\"]])\n",
        "encoded_df = pd.DataFrame(encoded_data, columns=encoder.get_feature_names_out())\n",
        "\n",
        "final_df = pd.concat([df, encoded_df], axis=1)\n",
        "final_df.drop(columns=[\"CAR TYPE\"], inplace=True)"
      ],
      "metadata": {
        "collapsed": true,
        "id": "RyrZmn8NMkVh"
      },
      "execution_count": null,
      "outputs": []
    },
    {
      "cell_type": "code",
      "source": [
        "final_df.info()"
      ],
      "metadata": {
        "colab": {
          "base_uri": "https://localhost:8080/"
        },
        "id": "E81wztPCXVyF",
        "outputId": "092610c1-060d-494a-ec28-e96c752b31d4"
      },
      "execution_count": null,
      "outputs": [
        {
          "output_type": "stream",
          "name": "stdout",
          "text": [
            "<class 'pandas.core.frame.DataFrame'>\n",
            "RangeIndex: 182419 entries, 0 to 182418\n",
            "Data columns (total 35 columns):\n",
            " #   Column                       Non-Null Count   Dtype  \n",
            "---  ------                       --------------   -----  \n",
            " 0   index                        182419 non-null  int64  \n",
            " 1   MODEL                        182419 non-null  int64  \n",
            " 2   PRICE RANGE                  182419 non-null  object \n",
            " 3   PRICE($)                     182419 non-null  float64\n",
            " 4   MILEAGE                      182419 non-null  float64\n",
            " 5   RATING                       182419 non-null  float64\n",
            " 6   CAR TYPE_Coupe SUV           182419 non-null  float64\n",
            " 7   CAR TYPE_Diesel SUV          182419 non-null  float64\n",
            " 8   CAR TYPE_Diesel Truck        182419 non-null  float64\n",
            " 9   CAR TYPE_Electric Coupe      182419 non-null  float64\n",
            " 10  CAR TYPE_Electric Microcar   182419 non-null  float64\n",
            " 11  CAR TYPE_Electric SUV        182419 non-null  float64\n",
            " 12  CAR TYPE_Electric Truck      182419 non-null  float64\n",
            " 13  CAR TYPE_Electric Van        182419 non-null  float64\n",
            " 14  CAR TYPE_Hybrid Convertible  182419 non-null  float64\n",
            " 15  CAR TYPE_Hybrid Coupe        182419 non-null  float64\n",
            " 16  CAR TYPE_Hybrid Hatchback    182419 non-null  float64\n",
            " 17  CAR TYPE_Hybrid Minivan      182419 non-null  float64\n",
            " 18  CAR TYPE_Hybrid SUV          182419 non-null  float64\n",
            " 19  CAR TYPE_Hybrid Sedan        182419 non-null  float64\n",
            " 20  CAR TYPE_Hybrid Truck        182419 non-null  float64\n",
            " 21  CAR TYPE_Hybrid Wagon        182419 non-null  float64\n",
            " 22  CAR TYPE_Luxury Sedan        182419 non-null  float64\n",
            " 23  CAR TYPE_Performance SUV     182419 non-null  float64\n",
            " 24  CAR TYPE_SUV                 182419 non-null  float64\n",
            " 25  CAR TYPE_Sedan               182419 non-null  float64\n",
            " 26  CAR TYPE_Wagon               182419 non-null  float64\n",
            " 27  CAR TYPE_convertible         182419 non-null  float64\n",
            " 28  CAR TYPE_coupe               182419 non-null  float64\n",
            " 29  CAR TYPE_crossover           182419 non-null  float64\n",
            " 30  CAR TYPE_diesel SUV          182419 non-null  float64\n",
            " 31  CAR TYPE_diesel van          182419 non-null  float64\n",
            " 32  CAR TYPE_hatchback           182419 non-null  float64\n",
            " 33  CAR TYPE_minivan             182419 non-null  float64\n",
            " 34  CAR TYPE_pickup-trucks       182419 non-null  float64\n",
            "dtypes: float64(32), int64(2), object(1)\n",
            "memory usage: 48.7+ MB\n"
          ]
        }
      ]
    },
    {
      "cell_type": "markdown",
      "source": [
        "## 8. Run models"
      ],
      "metadata": {
        "id": "hxcGPmL8qTRH"
      }
    },
    {
      "cell_type": "markdown",
      "source": [
        "### 8.1. DecisionTreeClassifier"
      ],
      "metadata": {
        "id": "laDrNEyzT_TY"
      }
    },
    {
      "cell_type": "code",
      "source": [
        "X_train, X_test, y_train, y_test = train_test_split(final_df.drop(\"PRICE RANGE\", axis=1), final_df[\"PRICE RANGE\"], test_size=0.2, random_state=42)\n",
        "\n",
        "clf = DecisionTreeClassifier()\n",
        "\n",
        "clf.fit(X_train, y_train)\n",
        "\n",
        "y_pred = clf.predict(X_test)\n",
        "\n",
        "accuracy = accuracy_score(y_test, y_pred)\n",
        "print(\"Accuracy:\", accuracy)"
      ],
      "metadata": {
        "colab": {
          "base_uri": "https://localhost:8080/"
        },
        "id": "QwDKbw2RQU0q",
        "outputId": "183fa492-c0f1-49e1-b516-ec23e08e8459"
      },
      "execution_count": null,
      "outputs": [
        {
          "output_type": "stream",
          "name": "stdout",
          "text": [
            "Accuracy: 0.998382852757373\n"
          ]
        }
      ]
    },
    {
      "cell_type": "code",
      "source": [
        "cm = confusion_matrix(y_test, y_pred)\n",
        "\n",
        "print(classification_report(y_test, y_pred))"
      ],
      "metadata": {
        "colab": {
          "base_uri": "https://localhost:8080/"
        },
        "id": "dUG0iTu_yyAB",
        "outputId": "695acd5a-da5b-4507-d151-6a51e9d5cd86"
      },
      "execution_count": null,
      "outputs": [
        {
          "output_type": "stream",
          "name": "stdout",
          "text": [
            "              precision    recall  f1-score   support\n",
            "\n",
            "        High       1.00      1.00      1.00      8813\n",
            "         Low       1.00      1.00      1.00      8556\n",
            "      Luxury       1.00      1.00      1.00      9859\n",
            "      Medium       1.00      1.00      1.00      9256\n",
            "\n",
            "    accuracy                           1.00     36484\n",
            "   macro avg       1.00      1.00      1.00     36484\n",
            "weighted avg       1.00      1.00      1.00     36484\n",
            "\n"
          ]
        }
      ]
    },
    {
      "cell_type": "code",
      "source": [
        "# Add a new column with the total amount in each row\n",
        "total_amounts = cm.sum(axis=1)\n",
        "cm = np.c_[cm, total_amounts.reshape(-1, 1)]\n",
        "\n",
        "# Create heatmap\n",
        "sns.heatmap(cm, annot=True, fmt='d', cmap='Greens')\n",
        "\n",
        "# Replace numbers with class labels\n",
        "class_labels = ['Low', 'Medium', 'High', 'Luxury']\n",
        "plt.yticks(ticks=[0.5, 1.5, 2.5, 3.5], labels=class_labels)\n",
        "\n",
        "class_labels.append('Total')\n",
        "plt.xticks(ticks=[0.5, 1.5, 2.5, 3.5, 4.5], labels=class_labels)\n",
        "\n",
        "# Set labels and title\n",
        "plt.xlabel('Predicted')\n",
        "plt.ylabel('Actual')\n",
        "plt.title('Confusion Matrix')\n",
        "\n",
        "plt.show()"
      ],
      "metadata": {
        "colab": {
          "base_uri": "https://localhost:8080/",
          "height": 472
        },
        "id": "rn2Z_zoY17e5",
        "outputId": "3c386608-2e60-4c00-897d-ab8107d660af"
      },
      "execution_count": null,
      "outputs": [
        {
          "output_type": "display_data",
          "data": {
            "text/plain": [
              "<Figure size 640x480 with 2 Axes>"
            ],
            "image/png": "[encoded data removed]"
          },
          "metadata": {}
        }
      ]
    },
    {
      "cell_type": "markdown",
      "source": [
        "### 8.2. GaussianNB"
      ],
      "metadata": {
        "id": "awkLUSkcUE1Q"
      }
    },
    {
      "cell_type": "code",
      "source": [
        "X_train, X_test, y_train, y_test = train_test_split(final_df.drop([\"PRICE RANGE\"], axis=1), final_df[\"PRICE RANGE\"], test_size=0.2, random_state=42)\n",
        "\n",
        "gnb = GaussianNB()\n",
        "y_pred = gnb.fit(X_train, y_train).predict(X_test)\n",
        "\n",
        "print(\"Number of mislabeled points out of a total %d points : %d\" % (X_test.shape[0], (y_test != y_pred).sum()))\n",
        "\n",
        "accuracy = accuracy_score(y_test, y_pred)\n",
        "print(\"Accuracy:\", accuracy)\n"
      ],
      "metadata": {
        "colab": {
          "base_uri": "https://localhost:8080/"
        },
        "id": "bNSBe-GcT8OB",
        "outputId": "4723b1b4-c566-45be-9639-5cdce6174ed8"
      },
      "execution_count": null,
      "outputs": [
        {
          "output_type": "stream",
          "name": "stdout",
          "text": [
            "Number of mislabeled points out of a total 36484 points : 16911\n",
            "Accuracy: 0.536481745422651\n"
          ]
        }
      ]
    },
    {
      "cell_type": "markdown",
      "source": [
        "OLD  \n",
        "Number of mislabeled points out of a total 35196 points : 16178  \n",
        "Accuracy: 0.5403454938061143  "
      ],
      "metadata": {
        "id": "wKdIuQU_Y4KL"
      }
    },
    {
      "cell_type": "code",
      "source": [
        "cm = confusion_matrix(y_test, y_pred)\n",
        "\n",
        "print(classification_report(y_test, y_pred))"
      ],
      "metadata": {
        "colab": {
          "base_uri": "https://localhost:8080/"
        },
        "id": "0KXXsSvJSWXr",
        "outputId": "7f1a0d8b-1e7c-4fd9-9abb-298ba37b37c5"
      },
      "execution_count": null,
      "outputs": [
        {
          "output_type": "stream",
          "name": "stdout",
          "text": [
            "              precision    recall  f1-score   support\n",
            "\n",
            "        High       0.37      0.62      0.47      8813\n",
            "         Low       0.74      0.67      0.70      8556\n",
            "      Luxury       0.75      0.49      0.59      9859\n",
            "      Medium       0.47      0.39      0.42      9256\n",
            "\n",
            "    accuracy                           0.54     36484\n",
            "   macro avg       0.58      0.54      0.55     36484\n",
            "weighted avg       0.59      0.54      0.54     36484\n",
            "\n"
          ]
        }
      ]
    },
    {
      "cell_type": "code",
      "source": [
        "# Add a new column with the total amount in each row\n",
        "total_amounts = cm.sum(axis=1)\n",
        "cm = np.c_[cm, total_amounts.reshape(-1, 1)]\n",
        "\n",
        "# Create heatmap\n",
        "sns.heatmap(cm, annot=True, fmt='d', cmap='Greens')\n",
        "\n",
        "# Replace numbers with class labels\n",
        "class_labels = ['Low', 'Medium', 'High', 'Luxury']\n",
        "plt.yticks(ticks=[0.5, 1.5, 2.5, 3.5], labels=class_labels)\n",
        "\n",
        "class_labels.append('Total')\n",
        "plt.xticks(ticks=[0.5, 1.5, 2.5, 3.5, 4.5], labels=class_labels)\n",
        "\n",
        "# Set labels and title\n",
        "plt.xlabel('Predicted')\n",
        "plt.ylabel('Actual')\n",
        "plt.title('Confusion Matrix')\n",
        "\n",
        "plt.show()"
      ],
      "metadata": {
        "colab": {
          "base_uri": "https://localhost:8080/",
          "height": 472
        },
        "id": "SYz6znGtVODF",
        "outputId": "0d95294e-3572-4931-bf4c-962a9166b631"
      },
      "execution_count": null,
      "outputs": [
        {
          "output_type": "display_data",
          "data": {
            "text/plain": [
              "<Figure size 640x480 with 2 Axes>"
            ],
            "image/png": "[encoded data removed]"
          },
          "metadata": {}
        }
      ]
    },
    {
      "cell_type": "markdown",
      "source": [
        "### 8.3. RndForrest\n"
      ],
      "metadata": {
        "id": "BE74FR8PW1fd"
      }
    },
    {
      "cell_type": "code",
      "source": [
        "X_train, X_test, y_train, y_test = train_test_split(final_df.drop(\"PRICE RANGE\", axis=1), final_df[\"PRICE RANGE\"], test_size=0.2, random_state=42)\n",
        "\n",
        "clf = RandomForestClassifier()\n",
        "clf.fit(X_train, y_train)\n",
        "y_pred = clf.predict(X_test)\n",
        "\n",
        "accuracy = accuracy_score(y_test, y_pred)\n",
        "print(\"Accuracy:\", accuracy)\n",
        "\n"
      ],
      "metadata": {
        "colab": {
          "base_uri": "https://localhost:8080/"
        },
        "id": "rZIzYYV0W45H",
        "outputId": "08e54690-5cfb-4a36-e66a-c49b636a6df1"
      },
      "execution_count": null,
      "outputs": [
        {
          "output_type": "stream",
          "name": "stdout",
          "text": [
            "Accuracy: 0.9948196469685342\n"
          ]
        }
      ]
    },
    {
      "cell_type": "code",
      "source": [
        "cm = confusion_matrix(y_test, y_pred)\n",
        "\n",
        "print(classification_report(y_test, y_pred))"
      ],
      "metadata": {
        "colab": {
          "base_uri": "https://localhost:8080/"
        },
        "id": "Mw53rFh9SXNW",
        "outputId": "a5587dc0-07ea-4cf3-e948-15895187024e"
      },
      "execution_count": null,
      "outputs": [
        {
          "output_type": "stream",
          "name": "stdout",
          "text": [
            "              precision    recall  f1-score   support\n",
            "\n",
            "        High       0.99      0.99      0.99      8813\n",
            "         Low       0.99      1.00      1.00      8556\n",
            "      Luxury       1.00      1.00      1.00      9859\n",
            "      Medium       0.99      0.99      0.99      9256\n",
            "\n",
            "    accuracy                           0.99     36484\n",
            "   macro avg       0.99      0.99      0.99     36484\n",
            "weighted avg       0.99      0.99      0.99     36484\n",
            "\n"
          ]
        }
      ]
    },
    {
      "cell_type": "code",
      "source": [
        "# Add a new column with the total amount in each row\n",
        "total_amounts = cm.sum(axis=1)\n",
        "cm = np.c_[cm, total_amounts.reshape(-1, 1)]\n",
        "\n",
        "# Create heatmap\n",
        "sns.heatmap(cm, annot=True, fmt='d', cmap='Greens')\n",
        "\n",
        "# Replace numbers with class labels\n",
        "class_labels = ['Low', 'Medium', 'High', 'Luxury']\n",
        "plt.yticks(ticks=[0.5, 1.5, 2.5, 3.5], labels=class_labels)\n",
        "\n",
        "class_labels.append('Total')\n",
        "plt.xticks(ticks=[0.5, 1.5, 2.5, 3.5, 4.5], labels=class_labels)\n",
        "\n",
        "# Set labels and title\n",
        "plt.xlabel('Predicted')\n",
        "plt.ylabel('Actual')\n",
        "plt.title('Confusion Matrix')\n",
        "\n",
        "plt.show()"
      ],
      "metadata": {
        "colab": {
          "base_uri": "https://localhost:8080/",
          "height": 472
        },
        "id": "wpr_7qmAW39V",
        "outputId": "c5644319-fcb4-4be8-e905-bae442965d3e"
      },
      "execution_count": null,
      "outputs": [
        {
          "output_type": "display_data",
          "data": {
            "text/plain": [
              "<Figure size 640x480 with 2 Axes>"
            ],
            "image/png": "[encoded data removed]"
          },
          "metadata": {}
        }
      ]
    },
    {
      "cell_type": "markdown",
      "source": [
        "### 8.4. KNN\n"
      ],
      "metadata": {
        "id": "2v_YERKOFUgm"
      }
    },
    {
      "cell_type": "code",
      "source": [
        "from sklearn.neighbors import KNeighborsClassifier\n",
        "\n",
        "X_train, X_test, y_train, y_test = train_test_split(final_df.drop(\"PRICE RANGE\", axis=1), final_df[\"PRICE RANGE\"], test_size=0.2, random_state=42)\n",
        "\n",
        "\n",
        "model = KNeighborsClassifier(n_neighbors=3)\n",
        "model.fit(X_train, y_train)\n",
        "\n",
        "y_pred = model.predict(X_test)\n",
        "\n",
        "accuracy = accuracy_score(y_test, y_pred)\n",
        "print(\"Accuracy:\", accuracy)\n"
      ],
      "metadata": {
        "colab": {
          "base_uri": "https://localhost:8080/"
        },
        "id": "v8kPnD5fFTyl",
        "outputId": "19167013-9b46-42b5-a5ab-514aa3afe9b4"
      },
      "execution_count": null,
      "outputs": [
        {
          "output_type": "stream",
          "name": "stdout",
          "text": [
            "Accuracy: 0.9637649380550378\n"
          ]
        }
      ]
    },
    {
      "cell_type": "code",
      "source": [
        "cm = confusion_matrix(y_test, y_pred)\n",
        "\n",
        "print(classification_report(y_test, y_pred))"
      ],
      "metadata": {
        "id": "ijtVxHROGsFB",
        "outputId": "fb3de89b-578b-4b27-ac52-5b9937f115ce",
        "colab": {
          "base_uri": "https://localhost:8080/"
        }
      },
      "execution_count": null,
      "outputs": [
        {
          "output_type": "stream",
          "name": "stdout",
          "text": [
            "              precision    recall  f1-score   support\n",
            "\n",
            "        High       0.96      0.96      0.96      8813\n",
            "         Low       0.96      0.96      0.96      8556\n",
            "      Luxury       0.99      0.98      0.98      9859\n",
            "      Medium       0.95      0.95      0.95      9256\n",
            "\n",
            "    accuracy                           0.96     36484\n",
            "   macro avg       0.96      0.96      0.96     36484\n",
            "weighted avg       0.96      0.96      0.96     36484\n",
            "\n"
          ]
        }
      ]
    },
    {
      "cell_type": "code",
      "source": [
        "# Add a new column with the total amount in each row\n",
        "total_amounts = cm.sum(axis=1)\n",
        "cm = np.c_[cm, total_amounts.reshape(-1, 1)]\n",
        "\n",
        "# Create heatmap\n",
        "sns.heatmap(cm, annot=True, fmt='d', cmap='Greens')\n",
        "\n",
        "# Replace numbers with class labels\n",
        "class_labels = ['Low', 'Medium', 'High', 'Luxury']\n",
        "plt.yticks(ticks=[0.5, 1.5, 2.5, 3.5], labels=class_labels)\n",
        "\n",
        "class_labels.append('Total')\n",
        "plt.xticks(ticks=[0.5, 1.5, 2.5, 3.5, 4.5], labels=class_labels)\n",
        "\n",
        "# Set labels and title\n",
        "plt.xlabel('Predicted')\n",
        "plt.ylabel('Actual')\n",
        "plt.title('Confusion Matrix')\n",
        "\n",
        "plt.show()"
      ],
      "metadata": {
        "colab": {
          "base_uri": "https://localhost:8080/",
          "height": 472
        },
        "id": "uTMqRcsDGl1q",
        "outputId": "a92a648f-e096-42d6-eb3d-62268abdaede"
      },
      "execution_count": null,
      "outputs": [
        {
          "output_type": "display_data",
          "data": {
            "text/plain": [
              "<Figure size 640x480 with 2 Axes>"
            ],
            "image/png": "[encoded data removed]"
          },
          "metadata": {}
        }
      ]
    },
    {
      "cell_type": "markdown",
      "source": [
        "# TEST"
      ],
      "metadata": {
        "id": "xBIFD1HZZ20C"
      }
    },
    {
      "cell_type": "code",
      "source": [
        "final_df.info()"
      ],
      "metadata": {
        "colab": {
          "base_uri": "https://localhost:8080/"
        },
        "id": "UhJTIK7nZ64P",
        "outputId": "661fba6a-c28e-48a9-f2ff-affff1f54a1d"
      },
      "execution_count": null,
      "outputs": [
        {
          "output_type": "stream",
          "name": "stdout",
          "text": [
            "<class 'pandas.core.frame.DataFrame'>\n",
            "RangeIndex: 182419 entries, 0 to 182418\n",
            "Data columns (total 35 columns):\n",
            " #   Column                       Non-Null Count   Dtype  \n",
            "---  ------                       --------------   -----  \n",
            " 0   index                        182419 non-null  int64  \n",
            " 1   MODEL                        182419 non-null  int64  \n",
            " 2   PRICE RANGE                  182419 non-null  object \n",
            " 3   PRICE($)                     182419 non-null  float64\n",
            " 4   MILEAGE                      182419 non-null  float64\n",
            " 5   RATING                       182419 non-null  float64\n",
            " 6   CAR TYPE_Coupe SUV           182419 non-null  float64\n",
            " 7   CAR TYPE_Diesel SUV          182419 non-null  float64\n",
            " 8   CAR TYPE_Diesel Truck        182419 non-null  float64\n",
            " 9   CAR TYPE_Electric Coupe      182419 non-null  float64\n",
            " 10  CAR TYPE_Electric Microcar   182419 non-null  float64\n",
            " 11  CAR TYPE_Electric SUV        182419 non-null  float64\n",
            " 12  CAR TYPE_Electric Truck      182419 non-null  float64\n",
            " 13  CAR TYPE_Electric Van        182419 non-null  float64\n",
            " 14  CAR TYPE_Hybrid Convertible  182419 non-null  float64\n",
            " 15  CAR TYPE_Hybrid Coupe        182419 non-null  float64\n",
            " 16  CAR TYPE_Hybrid Hatchback    182419 non-null  float64\n",
            " 17  CAR TYPE_Hybrid Minivan      182419 non-null  float64\n",
            " 18  CAR TYPE_Hybrid SUV          182419 non-null  float64\n",
            " 19  CAR TYPE_Hybrid Sedan        182419 non-null  float64\n",
            " 20  CAR TYPE_Hybrid Truck        182419 non-null  float64\n",
            " 21  CAR TYPE_Hybrid Wagon        182419 non-null  float64\n",
            " 22  CAR TYPE_Luxury Sedan        182419 non-null  float64\n",
            " 23  CAR TYPE_Performance SUV     182419 non-null  float64\n",
            " 24  CAR TYPE_SUV                 182419 non-null  float64\n",
            " 25  CAR TYPE_Sedan               182419 non-null  float64\n",
            " 26  CAR TYPE_Wagon               182419 non-null  float64\n",
            " 27  CAR TYPE_convertible         182419 non-null  float64\n",
            " 28  CAR TYPE_coupe               182419 non-null  float64\n",
            " 29  CAR TYPE_crossover           182419 non-null  float64\n",
            " 30  CAR TYPE_diesel SUV          182419 non-null  float64\n",
            " 31  CAR TYPE_diesel van          182419 non-null  float64\n",
            " 32  CAR TYPE_hatchback           182419 non-null  float64\n",
            " 33  CAR TYPE_minivan             182419 non-null  float64\n",
            " 34  CAR TYPE_pickup-trucks       182419 non-null  float64\n",
            "dtypes: float64(32), int64(2), object(1)\n",
            "memory usage: 48.7+ MB\n"
          ]
        }
      ]
    },
    {
      "cell_type": "code",
      "source": [
        "# KDE Plot\n",
        "sns.kdeplot(final_df['PRICE($)'])\n",
        "plt.title('KDE Plot of PRICE($)')\n",
        "plt.show()\n"
      ],
      "metadata": {
        "colab": {
          "base_uri": "https://localhost:8080/",
          "height": 472
        },
        "collapsed": true,
        "id": "r4V6gfeAZ6Es",
        "outputId": "582c5f0f-2171-42bd-9648-e92c7dc25291"
      },
      "execution_count": null,
      "outputs": [
        {
          "output_type": "display_data",
          "data": {
            "text/plain": [
              "<Figure size 640x480 with 1 Axes>"
            ],
            "image/png": "[encoded data removed]"
          },
          "metadata": {}
        }
      ]
    },
    {
      "cell_type": "code",
      "source": [
        "test = final_df.copy()\n",
        "\n",
        "test['LOG_PRICE($)'] = np.log(test['PRICE($)'] + 3)\n",
        "\n",
        "# KDE Plot after log transformation\n",
        "sns.kdeplot(test['LOG_PRICE($)'])\n",
        "plt.title('KDE Plot of LOG_PRICE')\n",
        "plt.show()"
      ],
      "metadata": {
        "colab": {
          "base_uri": "https://localhost:8080/",
          "height": 472
        },
        "collapsed": true,
        "id": "WYFrdHI5aSyR",
        "outputId": "1472623f-c0c9-4fe1-b607-35a80e761f7c"
      },
      "execution_count": null,
      "outputs": [
        {
          "output_type": "display_data",
          "data": {
            "text/plain": [
              "<Figure size 640x480 with 1 Axes>"
            ],
            "image/png": "[encoded data removed]"
          },
          "metadata": {}
        }
      ]
    },
    {
      "cell_type": "code",
      "source": [
        "# KDE Plot\n",
        "sns.kdeplot(final_df['MILEAGE'])\n",
        "plt.title('KDE Plot of MILEAGE')\n",
        "plt.show()"
      ],
      "metadata": {
        "colab": {
          "base_uri": "https://localhost:8080/",
          "height": 472
        },
        "collapsed": true,
        "id": "NM_cZCEFaKjm",
        "outputId": "d1f1295d-e656-4e4e-cb39-64d04f0e739e"
      },
      "execution_count": null,
      "outputs": [
        {
          "output_type": "display_data",
          "data": {
            "text/plain": [
              "<Figure size 640x480 with 1 Axes>"
            ],
            "image/png": "[encoded data removed]"
          },
          "metadata": {}
        }
      ]
    },
    {
      "cell_type": "code",
      "source": [
        "test['LOG_MILEAGE'] = np.log(test['MILEAGE'] + 3)\n",
        "\n",
        "# KDE Plot after log transformation\n",
        "sns.kdeplot(test['LOG_MILEAGE'])\n",
        "plt.title('KDE Plot of LOG_MILEAGE')\n",
        "plt.show()"
      ],
      "metadata": {
        "colab": {
          "base_uri": "https://localhost:8080/",
          "height": 472
        },
        "collapsed": true,
        "id": "LwgFRG4Nauay",
        "outputId": "82af9c34-2e97-4e22-9b49-dc8ad141d13c"
      },
      "execution_count": null,
      "outputs": [
        {
          "output_type": "display_data",
          "data": {
            "text/plain": [
              "<Figure size 640x480 with 1 Axes>"
            ],
            "image/png": "[encoded data removed]"
          },
          "metadata": {}
        }
      ]
    },
    {
      "cell_type": "code",
      "source": [
        "test.drop([\"PRICE RANGE\", 'PRICE($)', 'MILEAGE'], axis=1).info()"
      ],
      "metadata": {
        "collapsed": true,
        "colab": {
          "base_uri": "https://localhost:8080/"
        },
        "id": "QqGnATKYbxnM",
        "outputId": "992bc84e-881e-4908-8ec8-175974aea9db"
      },
      "execution_count": null,
      "outputs": [
        {
          "output_type": "stream",
          "name": "stdout",
          "text": [
            "<class 'pandas.core.frame.DataFrame'>\n",
            "RangeIndex: 182419 entries, 0 to 182418\n",
            "Data columns (total 33 columns):\n",
            " #   Column                       Non-Null Count   Dtype  \n",
            "---  ------                       --------------   -----  \n",
            " 0   index                        182419 non-null  int64  \n",
            " 1   MODEL                        182419 non-null  int64  \n",
            " 2   RATING                       182419 non-null  float64\n",
            " 3   CAR TYPE_Coupe SUV           182419 non-null  float64\n",
            " 4   CAR TYPE_Diesel SUV          182419 non-null  float64\n",
            " 5   CAR TYPE_Diesel Truck        182419 non-null  float64\n",
            " 6   CAR TYPE_Electric Coupe      182419 non-null  float64\n",
            " 7   CAR TYPE_Electric Microcar   182419 non-null  float64\n",
            " 8   CAR TYPE_Electric SUV        182419 non-null  float64\n",
            " 9   CAR TYPE_Electric Truck      182419 non-null  float64\n",
            " 10  CAR TYPE_Electric Van        182419 non-null  float64\n",
            " 11  CAR TYPE_Hybrid Convertible  182419 non-null  float64\n",
            " 12  CAR TYPE_Hybrid Coupe        182419 non-null  float64\n",
            " 13  CAR TYPE_Hybrid Hatchback    182419 non-null  float64\n",
            " 14  CAR TYPE_Hybrid Minivan      182419 non-null  float64\n",
            " 15  CAR TYPE_Hybrid SUV          182419 non-null  float64\n",
            " 16  CAR TYPE_Hybrid Sedan        182419 non-null  float64\n",
            " 17  CAR TYPE_Hybrid Truck        182419 non-null  float64\n",
            " 18  CAR TYPE_Hybrid Wagon        182419 non-null  float64\n",
            " 19  CAR TYPE_Luxury Sedan        182419 non-null  float64\n",
            " 20  CAR TYPE_Performance SUV     182419 non-null  float64\n",
            " 21  CAR TYPE_SUV                 182419 non-null  float64\n",
            " 22  CAR TYPE_Sedan               182419 non-null  float64\n",
            " 23  CAR TYPE_Wagon               182419 non-null  float64\n",
            " 24  CAR TYPE_convertible         182419 non-null  float64\n",
            " 25  CAR TYPE_coupe               182419 non-null  float64\n",
            " 26  CAR TYPE_crossover           182419 non-null  float64\n",
            " 27  CAR TYPE_diesel SUV          182419 non-null  float64\n",
            " 28  CAR TYPE_diesel van          182419 non-null  float64\n",
            " 29  CAR TYPE_hatchback           182419 non-null  float64\n",
            " 30  CAR TYPE_minivan             182419 non-null  float64\n",
            " 31  CAR TYPE_pickup-trucks       182419 non-null  float64\n",
            " 32  LOG_PRICE($)                 182419 non-null  float64\n",
            "dtypes: float64(31), int64(2)\n",
            "memory usage: 45.9 MB\n"
          ]
        }
      ]
    },
    {
      "cell_type": "code",
      "source": [
        "\n",
        "X_train, X_test, y_train, y_test = train_test_split(test.drop([\"PRICE RANGE\", 'PRICE($)', 'MILEAGE'], axis=1), test[\"PRICE RANGE\"], test_size=0.2, random_state=42)\n",
        "\n",
        "gnb = GaussianNB()\n",
        "y_pred = gnb.fit(X_train, y_train).predict(X_test)\n",
        "\n",
        "print(\"Number of mislabeled points out of a total %d points : %d\" % (X_test.shape[0], (y_test != y_pred).sum()))\n",
        "\n",
        "accuracy = accuracy_score(y_test, y_pred)\n",
        "print(\"Accuracy:\", accuracy)\n"
      ],
      "metadata": {
        "colab": {
          "base_uri": "https://localhost:8080/"
        },
        "id": "2Up52UumboIT",
        "outputId": "9c95dc5c-b938-4ab1-e6c2-6e50cf1a2dcd"
      },
      "execution_count": null,
      "outputs": [
        {
          "output_type": "stream",
          "name": "stdout",
          "text": [
            "Number of mislabeled points out of a total 36484 points : 18861\n",
            "Accuracy: 0.48303365859006686\n"
          ]
        }
      ]
    },
    {
      "cell_type": "code",
      "source": [
        "cm = confusion_matrix(y_test, y_pred)\n",
        "\n",
        "# Add a new column with the total amount in each row\n",
        "total_amounts = cm.sum(axis=1)  # Calculate row sums\n",
        "cm = np.c_[cm, total_amounts.reshape(-1, 1)]  # Concatenate with total amounts\n",
        "\n",
        "# Replace numbers with class labels\n",
        "class_labels = ['Low', 'Medium', 'High', 'Luxury', 'Total']\n",
        "\n",
        "# Create the heatmap with new labels\n",
        "sns.heatmap(cm, annot=True, fmt='d', cmap='Greens')\n",
        "\n",
        "# WHAT DOES THIS DO ?!?\n",
        "plt.xticks(ticks=[0.5, 1.5, 2.5, 3.5, 4.5], labels=class_labels)\n",
        "plt.yticks(ticks=[0.5, 1.5, 2.5, 3.5, 4.5], labels=class_labels)\n",
        "\n",
        "# Set labels and title\n",
        "plt.xlabel('Predicted')\n",
        "plt.ylabel('Actual')\n",
        "plt.title('Confusion Matrix')\n",
        "\n",
        "# Show the plot\n",
        "plt.show()"
      ],
      "metadata": {
        "colab": {
          "base_uri": "https://localhost:8080/",
          "height": 472
        },
        "id": "OJj93MACb9L7",
        "outputId": "20debe7f-49ee-484e-d9e4-8d53375f7d78"
      },
      "execution_count": null,
      "outputs": [
        {
          "output_type": "display_data",
          "data": {
            "text/plain": [
              "<Figure size 640x480 with 2 Axes>"
            ],
            "image/png": "[encoded data removed]"
          },
          "metadata": {}
        }
      ]
    }
  ]
}